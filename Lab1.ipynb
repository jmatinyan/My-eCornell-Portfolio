{
 "cells": [
  {
   "cell_type": "markdown",
   "metadata": {},
   "source": [
    "# Lab 1: ML Life Cycle: Business Understanding and Problem Formulation"
   ]
  },
  {
   "cell_type": "code",
   "execution_count": 4,
   "metadata": {},
   "outputs": [],
   "source": [
    "import pandas as pd\n",
    "import numpy as np"
   ]
  },
  {
   "cell_type": "markdown",
   "metadata": {},
   "source": [
    "In this lab, you will practice the first step of the machine learning life cycle: formulating a machine learning problem. But first, you will get more practice working with some of the Python machine learning packages that you will use throughout the machine learning life cycle to develop your models."
   ]
  },
  {
   "cell_type": "markdown",
   "metadata": {},
   "source": [
    " ## Part 1. Practice Working with ML Python Tools"
   ]
  },
  {
   "cell_type": "markdown",
   "metadata": {},
   "source": [
    "In this part of the lab you will:\n",
    "\n",
    "1. Work with NumPy arrays and NumPy functions\n",
    "2. Create Pandas DataFrames from data\n",
    "3. Use NumPy and Pandas to analyze the data\n",
    "4. Visualize the data with Matplotlib"
   ]
  },
  {
   "cell_type": "markdown",
   "metadata": {},
   "source": [
    "<b>Note</b>: In Jupyter Notebooks, you can output a variable in two different ways: \n",
    "\n",
    "1. By writing the name of the variable \n",
    "2. By using the python `print()` function\n",
    "\n",
    "The code cells below demonstrate this. Run each cell and inspect the results."
   ]
  },
  {
   "cell_type": "code",
   "execution_count": 5,
   "metadata": {},
   "outputs": [
    {
     "data": {
      "text/plain": [
       "5"
      ]
     },
     "execution_count": 5,
     "metadata": {},
     "output_type": "execute_result"
    }
   ],
   "source": [
    "x = 5\n",
    "x"
   ]
  },
  {
   "cell_type": "code",
   "execution_count": 6,
   "metadata": {},
   "outputs": [
    {
     "name": "stdout",
     "output_type": "stream",
     "text": [
      "5\n"
     ]
    }
   ],
   "source": [
    "x = 5\n",
    "print(x)"
   ]
  },
  {
   "cell_type": "markdown",
   "metadata": {},
   "source": [
    "If you want to output multiple items, you must use a `print()` statement. See the code cell below as an example."
   ]
  },
  {
   "cell_type": "code",
   "execution_count": 7,
   "metadata": {},
   "outputs": [
    {
     "name": "stdout",
     "output_type": "stream",
     "text": [
      "4\n",
      "3\n"
     ]
    }
   ],
   "source": [
    "y = 4\n",
    "z = 3\n",
    "\n",
    "print(y)\n",
    "print(z)"
   ]
  },
  {
   "cell_type": "markdown",
   "metadata": {},
   "source": [
    "## Practice Operating on NumPy Arrays"
   ]
  },
  {
   "cell_type": "markdown",
   "metadata": {},
   "source": [
    "### a. Define a Python list"
   ]
  },
  {
   "cell_type": "markdown",
   "metadata": {},
   "source": [
    "The code cell below defines a new list in Python."
   ]
  },
  {
   "cell_type": "code",
   "execution_count": 8,
   "metadata": {},
   "outputs": [
    {
     "data": {
      "text/plain": [
       "[0, 2, 4, 6, 8, 10, 12, 14]"
      ]
     },
     "execution_count": 8,
     "metadata": {},
     "output_type": "execute_result"
    }
   ],
   "source": [
    "python_list = [0,2,4,6,8,10,12,14]\n",
    "python_list"
   ]
  },
  {
   "cell_type": "markdown",
   "metadata": {},
   "source": [
    "### b. Define a Python range\n",
    "\n",
    "The code cell below defines a Python range in that contains the same values as those in the list above."
   ]
  },
  {
   "cell_type": "code",
   "execution_count": 9,
   "metadata": {},
   "outputs": [
    {
     "data": {
      "text/plain": [
       "range(0, 15, 2)"
      ]
     },
     "execution_count": 9,
     "metadata": {},
     "output_type": "execute_result"
    }
   ],
   "source": [
    "python_range = range(0, 15, 2)\n",
    "python_range"
   ]
  },
  {
   "cell_type": "markdown",
   "metadata": {},
   "source": [
    "The above returns an object of type `range`. The code cell below coverts this object to a Python list using the Python `list()` function.\n",
    " "
   ]
  },
  {
   "cell_type": "code",
   "execution_count": 10,
   "metadata": {},
   "outputs": [
    {
     "data": {
      "text/plain": [
       "[0, 2, 4, 6, 8, 10, 12, 14]"
      ]
     },
     "execution_count": 10,
     "metadata": {},
     "output_type": "execute_result"
    }
   ],
   "source": [
    "list(python_range)"
   ]
  },
  {
   "cell_type": "markdown",
   "metadata": {},
   "source": [
    "### c. Define a NumPy range"
   ]
  },
  {
   "cell_type": "markdown",
   "metadata": {},
   "source": [
    "<b>Task:</b> In the code cell below, use NumPy's `np.arange()` method to create a NumPy range that has the same output as the Python range above. Save the output to the variable `numpy_range`."
   ]
  },
  {
   "cell_type": "code",
   "execution_count": 11,
   "metadata": {},
   "outputs": [
    {
     "name": "stdout",
     "output_type": "stream",
     "text": [
      "[ 0  2  4  6  8 10 12 14]\n"
     ]
    }
   ],
   "source": [
    "# python_range(0, 15, 2)\n",
    "numpy_range = np.arange(0, 15, 2)\n",
    "print(numpy_range)"
   ]
  },
  {
   "cell_type": "markdown",
   "metadata": {},
   "source": [
    "The code above returns an object of type `ndarray` (i.e. an array). \n",
    "\n",
    "<b>Task:</b> In the code cell below, convert the NumPy array `numpy_range` to a Python list.\n"
   ]
  },
  {
   "cell_type": "code",
   "execution_count": 12,
   "metadata": {},
   "outputs": [
    {
     "name": "stdout",
     "output_type": "stream",
     "text": [
      "[0, 2, 4, 6, 8, 10, 12, 14]\n"
     ]
    }
   ],
   "source": [
    "# numpy_range = np.arange(0, 15, 2)\n",
    "numpy_range_list = numpy_range.tolist()\n",
    "print(numpy_range_list)"
   ]
  },
  {
   "cell_type": "markdown",
   "metadata": {},
   "source": [
    "### d. List comprehension"
   ]
  },
  {
   "cell_type": "markdown",
   "metadata": {},
   "source": [
    "Consider the task of replacing each value in a list with its square. The traditional way of performing a transformation on every element of a list is via a `for` loop. \n",
    "\n",
    "\n",
    "<b>Task:</b> In the code cell below, use a `for` loop to replace every value in the list `my_list` with its square (e.g. 2 will become 4). In your loop, use a range.\n",
    "\n"
   ]
  },
  {
   "cell_type": "code",
   "execution_count": 13,
   "metadata": {},
   "outputs": [
    {
     "name": "stdout",
     "output_type": "stream",
     "text": [
      "[1, 4, 9, 16]\n"
     ]
    }
   ],
   "source": [
    "my_list = [1, 2, 3, 4]\n",
    "for i in range(len(my_list)):\n",
    "    my_list[i] = my_list[i] ** 2 \n",
    "print(my_list)"
   ]
  },
  {
   "cell_type": "markdown",
   "metadata": {},
   "source": [
    "There is a different, more 'Pythonic' way to accomplish the same task.<br>\n",
    "\n",
    "*List comprehension* is one of the most elegant functionalities native to Python. It offers a concise way of applying a particular transformation to every element in a list. <br>\n",
    "\n",
    "By using list comprehension syntax, we can write a single, easily interpretable line of code that does the same transformation without using ranges or an iterating index variable `i`:"
   ]
  },
  {
   "cell_type": "code",
   "execution_count": 14,
   "metadata": {},
   "outputs": [
    {
     "name": "stdout",
     "output_type": "stream",
     "text": [
      "[1, 4, 9, 16]\n"
     ]
    }
   ],
   "source": [
    "my_list = [1,2,3,4]\n",
    "\n",
    "my_list = [x**2 for x in my_list]\n",
    "\n",
    "print(my_list)"
   ]
  },
  {
   "cell_type": "markdown",
   "metadata": {},
   "source": [
    "### e. Create a NumPy array"
   ]
  },
  {
   "cell_type": "markdown",
   "metadata": {},
   "source": [
    "<b>Task:</b> In the code cell below, create a `numpy` array that contains the integer values 1 through 4. Save the result to variable `arr`."
   ]
  },
  {
   "cell_type": "code",
   "execution_count": 15,
   "metadata": {},
   "outputs": [
    {
     "name": "stdout",
     "output_type": "stream",
     "text": [
      "[1 2 3 4]\n"
     ]
    }
   ],
   "source": [
    "# import numpy as np\n",
    "arr = np.array([1, 2, 3, 4])\n",
    "print(arr)"
   ]
  },
  {
   "cell_type": "markdown",
   "metadata": {},
   "source": [
    "### e.  Obtain the dimensions of the NumPy array"
   ]
  },
  {
   "cell_type": "markdown",
   "metadata": {},
   "source": [
    "The NumPy function `np.shape()` returns the dimensions of a `numpy` array. Because `numpy` arrays can be two dimensional (i.e. a matrix), `np.shape()` returns a tuple that contains the lengths of the array's dimensions. You can consider the result to be the number of rows and the number of columns in the NumPy array.\n",
    "\n",
    "<b>Task:</b> In the code cell below, use `np.shape()` to find the 'shape' of `numpy` array `arr`."
   ]
  },
  {
   "cell_type": "code",
   "execution_count": 16,
   "metadata": {},
   "outputs": [
    {
     "name": "stdout",
     "output_type": "stream",
     "text": [
      "(4,)\n"
     ]
    }
   ],
   "source": [
    "# import numpy as np\n",
    "arr = np.array([1, 2, 3, 4])\n",
    "shape_of_arr = np.shape(arr)\n",
    "print(shape_of_arr)"
   ]
  },
  {
   "cell_type": "markdown",
   "metadata": {},
   "source": [
    "Notice that there appears to be an empty 'slot' for another number in the tuple.\n",
    "Since `arr` is a one-dimensional array, we only care about the first element in the tuple that `np.shape()` returns.\n",
    "\n",
    "<b>Task:</b> In the code cell below, obtain the length of `arr` by extracting the first element that is returned by `np.shape()`. Save the result to the variable `arr_length`.\n"
   ]
  },
  {
   "cell_type": "code",
   "execution_count": 17,
   "metadata": {},
   "outputs": [
    {
     "name": "stdout",
     "output_type": "stream",
     "text": [
      "4\n"
     ]
    }
   ],
   "source": [
    "# import numpy as np\n",
    "arr = np.array([1, 2, 3, 4])\n",
    "shape_of_arr = np.shape(arr)\n",
    "arr_length = shape_of_arr[0]\n",
    "print(arr_length)"
   ]
  },
  {
   "cell_type": "markdown",
   "metadata": {},
   "source": [
    "### f. Create a uniform (same value in every position) array"
   ]
  },
  {
   "cell_type": "markdown",
   "metadata": {},
   "source": [
    "We will now use ```np.ones()``` to create an array of a specified length that contains the value '1' in each position:"
   ]
  },
  {
   "cell_type": "code",
   "execution_count": 18,
   "metadata": {},
   "outputs": [
    {
     "data": {
      "text/plain": [
       "array([1, 1, 1, 1, 1, 1, 1, 1, 1, 1, 1, 1, 1, 1, 1, 1, 1, 1, 1, 1, 1, 1,\n",
       "       1, 1, 1, 1, 1, 1, 1, 1, 1, 1, 1, 1, 1, 1, 1, 1, 1, 1, 1, 1, 1, 1,\n",
       "       1, 1, 1, 1, 1, 1, 1, 1, 1, 1, 1])"
      ]
     },
     "execution_count": 18,
     "metadata": {},
     "output_type": "execute_result"
    }
   ],
   "source": [
    "np.ones(55, dtype=int)"
   ]
  },
  {
   "cell_type": "markdown",
   "metadata": {},
   "source": [
    "We can use this method to create an array of any identical value. Let's create an array of length 13, filled with the value '7' in every position:"
   ]
  },
  {
   "cell_type": "code",
   "execution_count": 19,
   "metadata": {},
   "outputs": [
    {
     "data": {
      "text/plain": [
       "array([7, 7, 7, 7, 7, 7, 7, 7, 7, 7, 7, 7, 7])"
      ]
     },
     "execution_count": 19,
     "metadata": {},
     "output_type": "execute_result"
    }
   ],
   "source": [
    "7 * np.ones(13, dtype=int)"
   ]
  },
  {
   "cell_type": "markdown",
   "metadata": {},
   "source": [
    "### g. Create a two-dimensional NumPy array"
   ]
  },
  {
   "cell_type": "markdown",
   "metadata": {},
   "source": [
    "Let us explore the possibilities of the ```np.array()``` function further. NumPy arrays can be of more than one dimension. The code cell below creates a two-dimensional `numpy` array (a matrix)."
   ]
  },
  {
   "cell_type": "code",
   "execution_count": 20,
   "metadata": {},
   "outputs": [
    {
     "data": {
      "text/plain": [
       "array([[1, 2, 3],\n",
       "       [4, 5, 6]])"
      ]
     },
     "execution_count": 20,
     "metadata": {},
     "output_type": "execute_result"
    }
   ],
   "source": [
    "matrix = np.array([[1,2,3], [4,5,6]])\n",
    "matrix"
   ]
  },
  {
   "cell_type": "markdown",
   "metadata": {},
   "source": [
    "<b>Task:</b> In the code cell below, use `np.shape()` to find the dimensions of `matrix`."
   ]
  },
  {
   "cell_type": "code",
   "execution_count": 21,
   "metadata": {},
   "outputs": [
    {
     "name": "stdout",
     "output_type": "stream",
     "text": [
      "(3, 3)\n"
     ]
    }
   ],
   "source": [
    "# import numpy as np\n",
    "matrix = np.array([[1, 2, 3], [4, 5, 6], [7, 8, 9]])\n",
    "matrix_shape = np.shape(matrix)\n",
    "print(matrix_shape)"
   ]
  },
  {
   "cell_type": "markdown",
   "metadata": {},
   "source": [
    "### h. Create an identity matrix"
   ]
  },
  {
   "cell_type": "markdown",
   "metadata": {},
   "source": [
    "`np.eye()` is a NumPy function that creates an identity matrix of a specified size. An identity matrix is a matrix in which all of the values of the main diagonal are one, and all other values in the matrix are zero."
   ]
  },
  {
   "cell_type": "code",
   "execution_count": 22,
   "metadata": {},
   "outputs": [
    {
     "data": {
      "text/plain": [
       "array([[1., 0., 0., 0., 0.],\n",
       "       [0., 1., 0., 0., 0.],\n",
       "       [0., 0., 1., 0., 0.],\n",
       "       [0., 0., 0., 1., 0.],\n",
       "       [0., 0., 0., 0., 1.]])"
      ]
     },
     "execution_count": 22,
     "metadata": {},
     "output_type": "execute_result"
    }
   ],
   "source": [
    "np.eye(5)"
   ]
  },
  {
   "cell_type": "markdown",
   "metadata": {},
   "source": [
    "Check your intuition: What do you think will be the output after running this cell? Run the cell to see if you are correct."
   ]
  },
  {
   "cell_type": "code",
   "execution_count": 23,
   "metadata": {},
   "outputs": [
    {
     "data": {
      "text/plain": [
       "array([[5., 0., 0.],\n",
       "       [0., 5., 0.],\n",
       "       [0., 0., 5.]])"
      ]
     },
     "execution_count": 23,
     "metadata": {},
     "output_type": "execute_result"
    }
   ],
   "source": [
    "A = np.eye(3)\n",
    "B = 4 * np.eye(3)\n",
    "A+B"
   ]
  },
  {
   "cell_type": "markdown",
   "metadata": {},
   "source": [
    "### i. A small challenge:  matrix transformation and random matrix generation\n",
    "\n",
    "The `np.triu()` function obtains the upper right triangle of a two-dimensional NumPy array (matrix). Inspect the documentation by running the command ```np.triu?``` in the cell below. "
   ]
  },
  {
   "cell_type": "code",
   "execution_count": 24,
   "metadata": {},
   "outputs": [],
   "source": [
    "np.triu?"
   ]
  },
  {
   "cell_type": "markdown",
   "metadata": {},
   "source": [
    "<b>Task:</b> Inspect the code in the cell below, then run the code and note the resulting matrix `M`."
   ]
  },
  {
   "cell_type": "code",
   "execution_count": 25,
   "metadata": {},
   "outputs": [
    {
     "name": "stdout",
     "output_type": "stream",
     "text": [
      "M=\n",
      " [[0.25 0.04 0.75 0.8  0.2 ]\n",
      " [0.14 0.44 0.07 0.38 0.51]\n",
      " [0.55 0.27 0.8  0.65 0.31]\n",
      " [0.68 0.95 0.56 0.31 0.49]\n",
      " [0.77 0.97 0.26 0.2  0.97]]\n"
     ]
    }
   ],
   "source": [
    "M = np.round(np.random.rand(5,5),2)\n",
    "print(\"M=\\n\", M)"
   ]
  },
  {
   "cell_type": "markdown",
   "metadata": {},
   "source": [
    "<b>Task:</b> Use `np.triu()` to create a matrix called ```new_M``` which is identical to the matrix```M```, except that in the lower triangle (i.e., all the cells below the diagonal), all values will be zero."
   ]
  },
  {
   "cell_type": "code",
   "execution_count": 26,
   "metadata": {},
   "outputs": [
    {
     "name": "stdout",
     "output_type": "stream",
     "text": [
      "new_M=\n",
      " [[1 2 3]\n",
      " [0 5 6]\n",
      " [0 0 9]]\n"
     ]
    }
   ],
   "source": [
    "# import numpy as np\n",
    "matrixM = np.array([[1, 2, 3], \n",
    "                    [4, 5, 6], \n",
    "                    [7, 8, 9]])\n",
    "new_M = np.triu(matrixM)\n",
    "print(\"new_M=\\n\", new_M)"
   ]
  },
  {
   "cell_type": "markdown",
   "metadata": {},
   "source": [
    "<b>Task:</b> Using the code provided above for generating the matrix ```M```, try creating a matrix with 13 rows and 3 columns containing random numbers. Save the resulting matrix to the variable `random_M`."
   ]
  },
  {
   "cell_type": "code",
   "execution_count": 27,
   "metadata": {},
   "outputs": [
    {
     "name": "stdout",
     "output_type": "stream",
     "text": [
      "random_M= \n",
      " [[0.8439468  0.77959746 0.43248451]\n",
      " [0.21780334 0.19464806 0.35560123]\n",
      " [0.22933321 0.5565801  0.26765379]\n",
      " [0.5299526  0.50211254 0.91735228]\n",
      " [0.40922966 0.82130859 0.49475355]\n",
      " [0.46227909 0.69196535 0.26104986]\n",
      " [0.3886223  0.22386521 0.22698539]\n",
      " [0.70396377 0.16845491 0.27907822]\n",
      " [0.82635368 0.89748018 0.91016625]\n",
      " [0.45184033 0.46505903 0.24543377]\n",
      " [0.99781137 0.88402204 0.03130222]\n",
      " [0.07407327 0.06566895 0.34889658]\n",
      " [0.75832428 0.76351033 0.05912202]]\n"
     ]
    }
   ],
   "source": [
    "# import numpy as np\n",
    "random_M = np.random.rand(13, 3)\n",
    "print(\"random_M= \\n\", random_M)"
   ]
  },
  {
   "cell_type": "markdown",
   "metadata": {},
   "source": [
    "### j. Indexing and slicing two-dimensional NumPy arrays"
   ]
  },
  {
   "cell_type": "markdown",
   "metadata": {},
   "source": [
    "The code cell below extracts an element of a two-dimensional NumPy array by indexing into the array by specifying its location. Just like Python lists, NumPy arrays use 0-based indexing."
   ]
  },
  {
   "cell_type": "code",
   "execution_count": 28,
   "metadata": {},
   "outputs": [
    {
     "data": {
      "text/plain": [
       "0.9173522776069847"
      ]
     },
     "execution_count": 28,
     "metadata": {},
     "output_type": "execute_result"
    }
   ],
   "source": [
    "random_M[3][2]"
   ]
  },
  {
   "cell_type": "markdown",
   "metadata": {},
   "source": [
    "You can also use the following syntax to achieve the same result."
   ]
  },
  {
   "cell_type": "code",
   "execution_count": 29,
   "metadata": {},
   "outputs": [
    {
     "data": {
      "text/plain": [
       "0.9173522776069847"
      ]
     },
     "execution_count": 29,
     "metadata": {},
     "output_type": "execute_result"
    }
   ],
   "source": [
    "random_M[3,2]"
   ]
  },
  {
   "cell_type": "markdown",
   "metadata": {},
   "source": [
    "You learned how to slice a Pandas DataFrames. You can use the same techniques to slice a NumPy array. \n",
    "\n",
    "\n",
    "<b>Task:</b> In the code cell below, use slicing to obtain the rows with the index 3 through 5 in `random_M`."
   ]
  },
  {
   "cell_type": "code",
   "execution_count": 30,
   "metadata": {},
   "outputs": [
    {
     "name": "stdout",
     "output_type": "stream",
     "text": [
      "[[0.05699937 0.33038249 0.01065429]\n",
      " [0.25954127 0.34858261 0.35150036]\n",
      " [0.24336333 0.06445382 0.49786734]]\n"
     ]
    }
   ],
   "source": [
    "# import numpy as np\n",
    "random_M = np.random.rand(13, 3)\n",
    "sliced_random_M = random_M[3:6]\n",
    "print(sliced_random_M)"
   ]
  },
  {
   "cell_type": "markdown",
   "metadata": {},
   "source": [
    "<b>Task:</b> In the code cell below, use slicing to obtain all of the rows in the second column (column has the index of 1) of `random_M`."
   ]
  },
  {
   "cell_type": "code",
   "execution_count": 31,
   "metadata": {},
   "outputs": [
    {
     "name": "stdout",
     "output_type": "stream",
     "text": [
      "[4.92634290e-01 9.56962847e-02 8.06143255e-01 5.02924344e-01\n",
      " 8.17194663e-01 5.65273495e-01 9.31236427e-01 2.86626414e-01\n",
      " 9.72065212e-01 9.10258671e-01 2.14380107e-01 4.56895148e-04\n",
      " 3.41534226e-01]\n"
     ]
    }
   ],
   "source": [
    "# import numpy as np\n",
    "random_M = np.random.rand(13, 3)\n",
    "second_column = random_M[:, 1]\n",
    "print(second_column)"
   ]
  },
  {
   "cell_type": "markdown",
   "metadata": {},
   "source": [
    "<b>Task:</b> Use the code cell below to perform slicing on `random_M` to obtain a portion of the array of your choosing."
   ]
  },
  {
   "cell_type": "code",
   "execution_count": 32,
   "metadata": {},
   "outputs": [
    {
     "name": "stdout",
     "output_type": "stream",
     "text": [
      "[[0.55123269 0.59234051]\n",
      " [0.42091848 0.46986675]\n",
      " [0.8865161  0.61075215]\n",
      " [0.37039911 0.8383371 ]\n",
      " [0.45500204 0.33394937]]\n"
     ]
    }
   ],
   "source": [
    "# import numpy as np\n",
    "random_M = np.random.rand(13, 3)\n",
    "sliced_portion = random_M[4:9, 1:3]\n",
    "print(sliced_portion)"
   ]
  },
  {
   "cell_type": "markdown",
   "metadata": {},
   "source": [
    "### k. Evaluating a Boolean condition"
   ]
  },
  {
   "cell_type": "markdown",
   "metadata": {},
   "source": [
    "In real-life data tasks, you will often have to compute the boolean ```(True/False)``` value of some statement for all entries in a given NumPy array. You will formulate a condition &mdash; think of it as a *test* &mdash; and run a computation that returns `True` or `False` depending on whether the test passed or failed by a particular value in the array.\n",
    "\n",
    "The condition may be something like \"the value is greater than 0.5\". You would like to know if this is true or false for every value in  the array. \n",
    "\n",
    "The code cells below demonstrates how to perform such a task on NumPy arrays.\n",
    "\n",
    "First, we will create the array:"
   ]
  },
  {
   "cell_type": "code",
   "execution_count": 33,
   "metadata": {},
   "outputs": [
    {
     "name": "stdout",
     "output_type": "stream",
     "text": [
      "[[0.82061944 0.38893627 0.64762009 0.70171062 0.53508184 0.81056004\n",
      "  0.45440243 0.14625303 0.79285193 0.52371817 0.24353664 0.51540248\n",
      "  0.18518675 0.7054518  0.51015611 0.94234341 0.71663148 0.34645652\n",
      "  0.91231916 0.00116188]]\n"
     ]
    }
   ],
   "source": [
    "our_array = np.random.rand(1, 20)\n",
    "print(our_array)"
   ]
  },
  {
   "cell_type": "markdown",
   "metadata": {},
   "source": [
    "Next, we will apply a condition to the array:"
   ]
  },
  {
   "cell_type": "code",
   "execution_count": 34,
   "metadata": {},
   "outputs": [
    {
     "name": "stdout",
     "output_type": "stream",
     "text": [
      "[[ True False  True  True  True  True False False  True  True False  True\n",
      "  False  True  True  True  True False  True False]]\n"
     ]
    }
   ],
   "source": [
    "is_greater = our_array > 0.5\n",
    "print(is_greater)"
   ]
  },
  {
   "cell_type": "markdown",
   "metadata": {},
   "source": [
    "Let's apply this technique to our matrix `random_M`. Let's inspect the matrix again as a refresher."
   ]
  },
  {
   "cell_type": "code",
   "execution_count": 35,
   "metadata": {},
   "outputs": [
    {
     "name": "stdout",
     "output_type": "stream",
     "text": [
      "[[0.04487719 0.5082832  0.85319223]\n",
      " [0.66332378 0.48064611 0.02631501]\n",
      " [0.52216252 0.62895003 0.21909396]\n",
      " [0.40344339 0.62214075 0.64989721]\n",
      " [0.51908016 0.55123269 0.59234051]\n",
      " [0.97860481 0.42091848 0.46986675]\n",
      " [0.29791464 0.8865161  0.61075215]\n",
      " [0.21777131 0.37039911 0.8383371 ]\n",
      " [0.76191462 0.45500204 0.33394937]\n",
      " [0.13953932 0.58060794 0.7813401 ]\n",
      " [0.525817   0.00698573 0.44321268]\n",
      " [0.37421576 0.717696   0.53079536]\n",
      " [0.6558056  0.35785212 0.07891267]]\n"
     ]
    }
   ],
   "source": [
    "print(random_M)"
   ]
  },
  {
   "cell_type": "markdown",
   "metadata": {},
   "source": [
    "<b>Task:</b> In the code cell below, determine whether the value of every element in the second column of `random_M` is greater than 0.5. Save the result to the variable `is_greater`."
   ]
  },
  {
   "cell_type": "code",
   "execution_count": 36,
   "metadata": {},
   "outputs": [
    {
     "name": "stdout",
     "output_type": "stream",
     "text": [
      "[ True False  True False False  True False  True  True False  True False\n",
      "  True]\n"
     ]
    }
   ],
   "source": [
    "# import numpy as np\n",
    "random_M = np.random.rand(13, 3)\n",
    "is_greater = random_M[:, 1] > 0.5\n",
    "print(is_greater)"
   ]
  },
  {
   "cell_type": "markdown",
   "metadata": {},
   "source": [
    "We can use the function `np.any()` to determine if there is any element in a NumPy array that is True. Let us apply this to the array `is_greater` above. Using this function we can easily determine that indeed there are values greater than 0.5 in the second row of `random_M`."
   ]
  },
  {
   "cell_type": "code",
   "execution_count": 37,
   "metadata": {},
   "outputs": [
    {
     "data": {
      "text/plain": [
       "True"
      ]
     },
     "execution_count": 37,
     "metadata": {},
     "output_type": "execute_result"
    }
   ],
   "source": [
    "np.any(is_greater)"
   ]
  },
  {
   "cell_type": "markdown",
   "metadata": {},
   "source": [
    "Let's apply `np.any()` to another condition. \n",
    "\n",
    "<b>Task:</b> Use `np.any()` along with a conditional statement to determine if any value in the third row of `random_M` is less than .1."
   ]
  },
  {
   "cell_type": "code",
   "execution_count": 38,
   "metadata": {},
   "outputs": [
    {
     "name": "stdout",
     "output_type": "stream",
     "text": [
      "True\n"
     ]
    }
   ],
   "source": [
    "# import numpy as np\n",
    "random_M = np.random.rand(13, 3)\n",
    "is_any_less_than_point1 = np.any(random_M[2, :] < 0.1)\n",
    "print(is_any_less_than_point1)"
   ]
  },
  {
   "cell_type": "markdown",
   "metadata": {},
   "source": [
    "## Practice Working With Pandas DataFrames"
   ]
  },
  {
   "cell_type": "markdown",
   "metadata": {},
   "source": [
    "### a. Creating a DataFrame: two (of the many) ways"
   ]
  },
  {
   "cell_type": "markdown",
   "metadata": {},
   "source": [
    "The code cells below demonstrate how we can create Pandas DataFrames in two ways: \n",
    "\n",
    "1. From a *list of lists*\n",
    "2. From a *dictionary*\n",
    "\n",
    "First, the cell below creates a DataFrame from a list containing phone numbers and their country codes. The DataFrame is named `df`. Run the cell below to inspect the DataFrame `df` that was created."
   ]
  },
  {
   "cell_type": "code",
   "execution_count": 39,
   "metadata": {},
   "outputs": [
    {
     "data": {
      "text/html": [
       "<div>\n",
       "<style scoped>\n",
       "    .dataframe tbody tr th:only-of-type {\n",
       "        vertical-align: middle;\n",
       "    }\n",
       "\n",
       "    .dataframe tbody tr th {\n",
       "        vertical-align: top;\n",
       "    }\n",
       "\n",
       "    .dataframe thead th {\n",
       "        text-align: right;\n",
       "    }\n",
       "</style>\n",
       "<table border=\"1\" class=\"dataframe\">\n",
       "  <thead>\n",
       "    <tr style=\"text-align: right;\">\n",
       "      <th></th>\n",
       "      <th>country_code</th>\n",
       "      <th>phone</th>\n",
       "    </tr>\n",
       "  </thead>\n",
       "  <tbody>\n",
       "    <tr>\n",
       "      <th>0</th>\n",
       "      <td>+1</td>\n",
       "      <td>(929)-000-0000</td>\n",
       "    </tr>\n",
       "    <tr>\n",
       "      <th>1</th>\n",
       "      <td>+34</td>\n",
       "      <td>(917)-000-0000</td>\n",
       "    </tr>\n",
       "    <tr>\n",
       "      <th>2</th>\n",
       "      <td>+7</td>\n",
       "      <td>(470)-000-0000</td>\n",
       "    </tr>\n",
       "  </tbody>\n",
       "</table>\n",
       "</div>"
      ],
      "text/plain": [
       "  country_code           phone\n",
       "0           +1  (929)-000-0000\n",
       "1          +34  (917)-000-0000\n",
       "2           +7  (470)-000-0000"
      ]
     },
     "execution_count": 39,
     "metadata": {},
     "output_type": "execute_result"
    }
   ],
   "source": [
    "my_list = [['+1', '(929)-000-0000'], ['+34', '(917)-000-0000'], ['+7', '(470)-000-0000']]\n",
    "\n",
    "df = pd.DataFrame(my_list, columns = ['country_code', 'phone'])\n",
    "df"
   ]
  },
  {
   "cell_type": "markdown",
   "metadata": {},
   "source": [
    "Second, the cell below creates a DataFrame from a dictionary that contains the same information as the list above. The dictionary contains phone numbers and their country codes. Run the cell below to inspect the DataFrame `df_from_dict` that was created from the dictionary. Notice that both DataFrames `df` and `df_from_dict` contain the same values."
   ]
  },
  {
   "cell_type": "code",
   "execution_count": 40,
   "metadata": {},
   "outputs": [
    {
     "data": {
      "text/html": [
       "<div>\n",
       "<style scoped>\n",
       "    .dataframe tbody tr th:only-of-type {\n",
       "        vertical-align: middle;\n",
       "    }\n",
       "\n",
       "    .dataframe tbody tr th {\n",
       "        vertical-align: top;\n",
       "    }\n",
       "\n",
       "    .dataframe thead th {\n",
       "        text-align: right;\n",
       "    }\n",
       "</style>\n",
       "<table border=\"1\" class=\"dataframe\">\n",
       "  <thead>\n",
       "    <tr style=\"text-align: right;\">\n",
       "      <th></th>\n",
       "      <th>country_code</th>\n",
       "      <th>phone</th>\n",
       "    </tr>\n",
       "  </thead>\n",
       "  <tbody>\n",
       "    <tr>\n",
       "      <th>0</th>\n",
       "      <td>+1</td>\n",
       "      <td>(929)-000-0000</td>\n",
       "    </tr>\n",
       "    <tr>\n",
       "      <th>1</th>\n",
       "      <td>+34</td>\n",
       "      <td>(917)-000-0000</td>\n",
       "    </tr>\n",
       "    <tr>\n",
       "      <th>2</th>\n",
       "      <td>+7</td>\n",
       "      <td>(470)-000-0000</td>\n",
       "    </tr>\n",
       "  </tbody>\n",
       "</table>\n",
       "</div>"
      ],
      "text/plain": [
       "  country_code           phone\n",
       "0           +1  (929)-000-0000\n",
       "1          +34  (917)-000-0000\n",
       "2           +7  (470)-000-0000"
      ]
     },
     "execution_count": 40,
     "metadata": {},
     "output_type": "execute_result"
    }
   ],
   "source": [
    "my_dict = {'country_code': ['+1', '+34', '+7'], 'phone':['(929)-000-0000', '(917)-000-0000', '(470)-000-0000']}\n",
    "\n",
    "df_from_dict = pd.DataFrame(my_dict)\n",
    "df_from_dict"
   ]
  },
  {
   "cell_type": "markdown",
   "metadata": {},
   "source": [
    "### b. Adding a column to a DataFrame object"
   ]
  },
  {
   "cell_type": "markdown",
   "metadata": {},
   "source": [
    "We are going to continue working with the DataFrame `df` that was created above. The code cell below adds a new column of values to `df`. Run the cell and inspect the DataFrame to see the new column that was added."
   ]
  },
  {
   "cell_type": "code",
   "execution_count": 41,
   "metadata": {},
   "outputs": [
    {
     "data": {
      "text/html": [
       "<div>\n",
       "<style scoped>\n",
       "    .dataframe tbody tr th:only-of-type {\n",
       "        vertical-align: middle;\n",
       "    }\n",
       "\n",
       "    .dataframe tbody tr th {\n",
       "        vertical-align: top;\n",
       "    }\n",
       "\n",
       "    .dataframe thead th {\n",
       "        text-align: right;\n",
       "    }\n",
       "</style>\n",
       "<table border=\"1\" class=\"dataframe\">\n",
       "  <thead>\n",
       "    <tr style=\"text-align: right;\">\n",
       "      <th></th>\n",
       "      <th>country_code</th>\n",
       "      <th>phone</th>\n",
       "      <th>grade</th>\n",
       "    </tr>\n",
       "  </thead>\n",
       "  <tbody>\n",
       "    <tr>\n",
       "      <th>0</th>\n",
       "      <td>+1</td>\n",
       "      <td>(929)-000-0000</td>\n",
       "      <td>A</td>\n",
       "    </tr>\n",
       "    <tr>\n",
       "      <th>1</th>\n",
       "      <td>+34</td>\n",
       "      <td>(917)-000-0000</td>\n",
       "      <td>B</td>\n",
       "    </tr>\n",
       "    <tr>\n",
       "      <th>2</th>\n",
       "      <td>+7</td>\n",
       "      <td>(470)-000-0000</td>\n",
       "      <td>A</td>\n",
       "    </tr>\n",
       "  </tbody>\n",
       "</table>\n",
       "</div>"
      ],
      "text/plain": [
       "  country_code           phone grade\n",
       "0           +1  (929)-000-0000     A\n",
       "1          +34  (917)-000-0000     B\n",
       "2           +7  (470)-000-0000     A"
      ]
     },
     "execution_count": 41,
     "metadata": {},
     "output_type": "execute_result"
    }
   ],
   "source": [
    "df['grade']= ['A','B','A']\n",
    "df"
   ]
  },
  {
   "cell_type": "markdown",
   "metadata": {},
   "source": [
    "<b>Task:</b> In the cell below, create a new column in DataFrame `df` that contains the names of individuals.\n",
    "\n",
    "* First, create a list containing three names of your choosing. \n",
    "* Next, create a new column in `df` called `names` by using the list you created."
   ]
  },
  {
   "cell_type": "code",
   "execution_count": 42,
   "metadata": {},
   "outputs": [
    {
     "name": "stdout",
     "output_type": "stream",
     "text": [
      "   Age      City    names\n",
      "0   22  New York    Emily\n",
      "1   25  Pasadena  Bighani\n",
      "2   21    Moscow    Julia\n"
     ]
    }
   ],
   "source": [
    "# import pandas as pd\n",
    "\n",
    "data = {\n",
    "    'Age': [22, 25, 21],\n",
    "    'City': ['New York', 'Pasadena', 'Moscow']\n",
    "}\n",
    "df = pd.DataFrame(data)\n",
    "\n",
    "names_list = ['Emily', 'Bighani', 'Julia']\n",
    "\n",
    "df['names'] = names_list\n",
    "print(df)"
   ]
  },
  {
   "cell_type": "markdown",
   "metadata": {},
   "source": [
    "### c. Sorting the DataFrame by values in a specific column"
   ]
  },
  {
   "cell_type": "markdown",
   "metadata": {},
   "source": [
    "The `df.sort_values()` method sorts a DataFrame by the specified column. The code cell below will use `df.sort_values()` to sort DataFrame`df` by the values contained in column `grade`. The original DataFrame `df` will not be changed, so we will assign the resulting DataFrame to variable `df` to update the values in the DataFrame."
   ]
  },
  {
   "cell_type": "code",
   "execution_count": 43,
   "metadata": {},
   "outputs": [
    {
     "name": "stdout",
     "output_type": "stream",
     "text": [
      "     names  grade\n",
      "2    Julia     70\n",
      "0    Emily     88\n",
      "1  Bighani     95\n"
     ]
    }
   ],
   "source": [
    "import pandas as pd\n",
    "\n",
    "data = {\n",
    "    'names': ['Emily', 'Bighani', 'Julia'],\n",
    "    'grade': [88, 95, 70]\n",
    "}\n",
    "df = pd.DataFrame(data)\n",
    "df = df.sort_values(by='grade')\n",
    "\n",
    "print(df)"
   ]
  },
  {
   "cell_type": "markdown",
   "metadata": {},
   "source": [
    "### d. Combining multiple DataFrames  and renaming  columns with `df.rename()`"
   ]
  },
  {
   "cell_type": "markdown",
   "metadata": {},
   "source": [
    "In real life settings, you will often need to combine separate sets of related data. Two functions used for this purpose are `pd.concat()` and `pd.merge()`.\n",
    "\n",
    "\n",
    "To illustrate, let's create a new DataFrame. The code cell below creates a new DataFrame `df2` that also contains phone numbers, their country codes and a grade. Run the cell and inspect the new DataFrame that was created."
   ]
  },
  {
   "cell_type": "code",
   "execution_count": 44,
   "metadata": {},
   "outputs": [
    {
     "data": {
      "text/html": [
       "<div>\n",
       "<style scoped>\n",
       "    .dataframe tbody tr th:only-of-type {\n",
       "        vertical-align: middle;\n",
       "    }\n",
       "\n",
       "    .dataframe tbody tr th {\n",
       "        vertical-align: top;\n",
       "    }\n",
       "\n",
       "    .dataframe thead th {\n",
       "        text-align: right;\n",
       "    }\n",
       "</style>\n",
       "<table border=\"1\" class=\"dataframe\">\n",
       "  <thead>\n",
       "    <tr style=\"text-align: right;\">\n",
       "      <th></th>\n",
       "      <th>country</th>\n",
       "      <th>grade</th>\n",
       "      <th>phone</th>\n",
       "    </tr>\n",
       "  </thead>\n",
       "  <tbody>\n",
       "    <tr>\n",
       "      <th>0</th>\n",
       "      <td>+32</td>\n",
       "      <td>B</td>\n",
       "      <td>(874)-444-0000</td>\n",
       "    </tr>\n",
       "    <tr>\n",
       "      <th>1</th>\n",
       "      <td>+81</td>\n",
       "      <td>B+</td>\n",
       "      <td>(313)-003-1000</td>\n",
       "    </tr>\n",
       "    <tr>\n",
       "      <th>2</th>\n",
       "      <td>+11</td>\n",
       "      <td>A</td>\n",
       "      <td>(990)-006-0660</td>\n",
       "    </tr>\n",
       "  </tbody>\n",
       "</table>\n",
       "</div>"
      ],
      "text/plain": [
       "  country grade           phone\n",
       "0     +32     B  (874)-444-0000\n",
       "1     +81    B+  (313)-003-1000\n",
       "2     +11     A  (990)-006-0660"
      ]
     },
     "execution_count": 44,
     "metadata": {},
     "output_type": "execute_result"
    }
   ],
   "source": [
    "my_dict2 = {'country': ['+32', '+81', '+11'], 'grade':['B', 'B+', 'A'], 'phone':['(874)-444-0000', '(313)-003-1000', '(990)-006-0660']}\n",
    "\n",
    "df2 = pd.DataFrame(my_dict2)\n",
    "df2"
   ]
  },
  {
   "cell_type": "markdown",
   "metadata": {},
   "source": [
    "The code cell below uses the Pandas ```pd.concat()``` function to append `df2` to `df`. The `pd.concat()` function will not change the values in the original DataFrames, so we will save the newly formed DataFrame to variable `df_concat`. "
   ]
  },
  {
   "cell_type": "code",
   "execution_count": 45,
   "metadata": {},
   "outputs": [
    {
     "data": {
      "text/html": [
       "<div>\n",
       "<style scoped>\n",
       "    .dataframe tbody tr th:only-of-type {\n",
       "        vertical-align: middle;\n",
       "    }\n",
       "\n",
       "    .dataframe tbody tr th {\n",
       "        vertical-align: top;\n",
       "    }\n",
       "\n",
       "    .dataframe thead th {\n",
       "        text-align: right;\n",
       "    }\n",
       "</style>\n",
       "<table border=\"1\" class=\"dataframe\">\n",
       "  <thead>\n",
       "    <tr style=\"text-align: right;\">\n",
       "      <th></th>\n",
       "      <th>names</th>\n",
       "      <th>grade</th>\n",
       "      <th>country</th>\n",
       "      <th>phone</th>\n",
       "    </tr>\n",
       "  </thead>\n",
       "  <tbody>\n",
       "    <tr>\n",
       "      <th>2</th>\n",
       "      <td>Julia</td>\n",
       "      <td>70</td>\n",
       "      <td>NaN</td>\n",
       "      <td>NaN</td>\n",
       "    </tr>\n",
       "    <tr>\n",
       "      <th>0</th>\n",
       "      <td>Emily</td>\n",
       "      <td>88</td>\n",
       "      <td>NaN</td>\n",
       "      <td>NaN</td>\n",
       "    </tr>\n",
       "    <tr>\n",
       "      <th>1</th>\n",
       "      <td>Bighani</td>\n",
       "      <td>95</td>\n",
       "      <td>NaN</td>\n",
       "      <td>NaN</td>\n",
       "    </tr>\n",
       "    <tr>\n",
       "      <th>0</th>\n",
       "      <td>NaN</td>\n",
       "      <td>B</td>\n",
       "      <td>+32</td>\n",
       "      <td>(874)-444-0000</td>\n",
       "    </tr>\n",
       "    <tr>\n",
       "      <th>1</th>\n",
       "      <td>NaN</td>\n",
       "      <td>B+</td>\n",
       "      <td>+81</td>\n",
       "      <td>(313)-003-1000</td>\n",
       "    </tr>\n",
       "    <tr>\n",
       "      <th>2</th>\n",
       "      <td>NaN</td>\n",
       "      <td>A</td>\n",
       "      <td>+11</td>\n",
       "      <td>(990)-006-0660</td>\n",
       "    </tr>\n",
       "  </tbody>\n",
       "</table>\n",
       "</div>"
      ],
      "text/plain": [
       "     names grade country           phone\n",
       "2    Julia    70     NaN             NaN\n",
       "0    Emily    88     NaN             NaN\n",
       "1  Bighani    95     NaN             NaN\n",
       "0      NaN     B     +32  (874)-444-0000\n",
       "1      NaN    B+     +81  (313)-003-1000\n",
       "2      NaN     A     +11  (990)-006-0660"
      ]
     },
     "execution_count": 45,
     "metadata": {},
     "output_type": "execute_result"
    }
   ],
   "source": [
    "df_concat = pd.concat([df,df2])\n",
    "df_concat"
   ]
  },
  {
   "cell_type": "markdown",
   "metadata": {},
   "source": [
    "Notice that the new DataFrame `df_concat` contains two columns containing country codes. This is because the two original DataFrames contained different spellings for the columns. \n",
    "\n",
    "\n",
    "We can easily fix this by changing the name of the column in DataFrame `df2` to be consistent with the name of the column in DataFrame `df`."
   ]
  },
  {
   "cell_type": "code",
   "execution_count": 46,
   "metadata": {},
   "outputs": [
    {
     "data": {
      "text/html": [
       "<div>\n",
       "<style scoped>\n",
       "    .dataframe tbody tr th:only-of-type {\n",
       "        vertical-align: middle;\n",
       "    }\n",
       "\n",
       "    .dataframe tbody tr th {\n",
       "        vertical-align: top;\n",
       "    }\n",
       "\n",
       "    .dataframe thead th {\n",
       "        text-align: right;\n",
       "    }\n",
       "</style>\n",
       "<table border=\"1\" class=\"dataframe\">\n",
       "  <thead>\n",
       "    <tr style=\"text-align: right;\">\n",
       "      <th></th>\n",
       "      <th>country_code</th>\n",
       "      <th>grade</th>\n",
       "      <th>phone</th>\n",
       "    </tr>\n",
       "  </thead>\n",
       "  <tbody>\n",
       "    <tr>\n",
       "      <th>0</th>\n",
       "      <td>+32</td>\n",
       "      <td>B</td>\n",
       "      <td>(874)-444-0000</td>\n",
       "    </tr>\n",
       "    <tr>\n",
       "      <th>1</th>\n",
       "      <td>+81</td>\n",
       "      <td>B+</td>\n",
       "      <td>(313)-003-1000</td>\n",
       "    </tr>\n",
       "    <tr>\n",
       "      <th>2</th>\n",
       "      <td>+11</td>\n",
       "      <td>A</td>\n",
       "      <td>(990)-006-0660</td>\n",
       "    </tr>\n",
       "  </tbody>\n",
       "</table>\n",
       "</div>"
      ],
      "text/plain": [
       "  country_code grade           phone\n",
       "0          +32     B  (874)-444-0000\n",
       "1          +81    B+  (313)-003-1000\n",
       "2          +11     A  (990)-006-0660"
      ]
     },
     "execution_count": 46,
     "metadata": {},
     "output_type": "execute_result"
    }
   ],
   "source": [
    "df2 = df2.rename(columns={'country':'country_code'})\n",
    "df2"
   ]
  },
  {
   "cell_type": "markdown",
   "metadata": {},
   "source": [
    "<b>Task</b>: In the cell below, run the `pd.concat()` function again to concatenate DataFrames `df` and `df2` and save the resulting DataFrame to variable `df_concat2`. Run the cell and inspect the results."
   ]
  },
  {
   "cell_type": "code",
   "execution_count": 47,
   "metadata": {},
   "outputs": [
    {
     "name": "stdout",
     "output_type": "stream",
     "text": [
      "       names  grade\n",
      "0      Emily    100\n",
      "1    Bighani     95\n",
      "2      Julia     90\n",
      "3      Aidan     90\n",
      "4  Christian     85\n",
      "5      Bryan     80\n"
     ]
    }
   ],
   "source": [
    "# import pandas as pd\n",
    "data1 = {\n",
    "    'names': ['Emily', 'Bighani', 'Julia'],\n",
    "    'grade': [100, 95, 90]\n",
    "}\n",
    "df = pd.DataFrame(data1)\n",
    "\n",
    "data2 = {\n",
    "    'names': ['Aidan', 'Christian', 'Bryan'],\n",
    "    'grade': [90, 85, 80]\n",
    "}\n",
    "df2 = pd.DataFrame(data2)\n",
    "\n",
    "df_concat2 = pd.concat([df, df2], ignore_index=True)\n",
    "\n",
    "print(df_concat2)"
   ]
  },
  {
   "cell_type": "markdown",
   "metadata": {},
   "source": [
    "One other problem is that the index has repeated values. This defeats the purpose of an index, and ought to be fixed. Let's try the concatenation again, this time adding `reset_index()` method to produce correct results:"
   ]
  },
  {
   "cell_type": "code",
   "execution_count": 48,
   "metadata": {},
   "outputs": [
    {
     "data": {
      "text/html": [
       "<div>\n",
       "<style scoped>\n",
       "    .dataframe tbody tr th:only-of-type {\n",
       "        vertical-align: middle;\n",
       "    }\n",
       "\n",
       "    .dataframe tbody tr th {\n",
       "        vertical-align: top;\n",
       "    }\n",
       "\n",
       "    .dataframe thead th {\n",
       "        text-align: right;\n",
       "    }\n",
       "</style>\n",
       "<table border=\"1\" class=\"dataframe\">\n",
       "  <thead>\n",
       "    <tr style=\"text-align: right;\">\n",
       "      <th></th>\n",
       "      <th>index</th>\n",
       "      <th>names</th>\n",
       "      <th>grade</th>\n",
       "    </tr>\n",
       "  </thead>\n",
       "  <tbody>\n",
       "    <tr>\n",
       "      <th>0</th>\n",
       "      <td>0</td>\n",
       "      <td>Emily</td>\n",
       "      <td>100</td>\n",
       "    </tr>\n",
       "    <tr>\n",
       "      <th>1</th>\n",
       "      <td>1</td>\n",
       "      <td>Bighani</td>\n",
       "      <td>95</td>\n",
       "    </tr>\n",
       "    <tr>\n",
       "      <th>2</th>\n",
       "      <td>2</td>\n",
       "      <td>Julia</td>\n",
       "      <td>90</td>\n",
       "    </tr>\n",
       "    <tr>\n",
       "      <th>3</th>\n",
       "      <td>0</td>\n",
       "      <td>Aidan</td>\n",
       "      <td>90</td>\n",
       "    </tr>\n",
       "    <tr>\n",
       "      <th>4</th>\n",
       "      <td>1</td>\n",
       "      <td>Christian</td>\n",
       "      <td>85</td>\n",
       "    </tr>\n",
       "    <tr>\n",
       "      <th>5</th>\n",
       "      <td>2</td>\n",
       "      <td>Bryan</td>\n",
       "      <td>80</td>\n",
       "    </tr>\n",
       "  </tbody>\n",
       "</table>\n",
       "</div>"
      ],
      "text/plain": [
       "   index      names  grade\n",
       "0      0      Emily    100\n",
       "1      1    Bighani     95\n",
       "2      2      Julia     90\n",
       "3      0      Aidan     90\n",
       "4      1  Christian     85\n",
       "5      2      Bryan     80"
      ]
     },
     "execution_count": 48,
     "metadata": {},
     "output_type": "execute_result"
    }
   ],
   "source": [
    "df_concat2 = pd.concat([df,df2]).reset_index()\n",
    "df_concat2"
   ]
  },
  {
   "cell_type": "markdown",
   "metadata": {},
   "source": [
    "Now we have one column for `country_code`. Notice that we have missing values for the names of individuals, since names  were contained in `df` but not in `df2`. In a future unit, you will learn how to deal with missing values."
   ]
  },
  {
   "cell_type": "markdown",
   "metadata": {},
   "source": [
    "What if our task were to merge ```df2``` with yet another dataset &mdash; one that contains additional unique columns? Let's look at DataFrame `df2` again:"
   ]
  },
  {
   "cell_type": "code",
   "execution_count": 49,
   "metadata": {},
   "outputs": [
    {
     "data": {
      "text/html": [
       "<div>\n",
       "<style scoped>\n",
       "    .dataframe tbody tr th:only-of-type {\n",
       "        vertical-align: middle;\n",
       "    }\n",
       "\n",
       "    .dataframe tbody tr th {\n",
       "        vertical-align: top;\n",
       "    }\n",
       "\n",
       "    .dataframe thead th {\n",
       "        text-align: right;\n",
       "    }\n",
       "</style>\n",
       "<table border=\"1\" class=\"dataframe\">\n",
       "  <thead>\n",
       "    <tr style=\"text-align: right;\">\n",
       "      <th></th>\n",
       "      <th>names</th>\n",
       "      <th>grade</th>\n",
       "    </tr>\n",
       "  </thead>\n",
       "  <tbody>\n",
       "    <tr>\n",
       "      <th>0</th>\n",
       "      <td>Aidan</td>\n",
       "      <td>90</td>\n",
       "    </tr>\n",
       "    <tr>\n",
       "      <th>1</th>\n",
       "      <td>Christian</td>\n",
       "      <td>85</td>\n",
       "    </tr>\n",
       "    <tr>\n",
       "      <th>2</th>\n",
       "      <td>Bryan</td>\n",
       "      <td>80</td>\n",
       "    </tr>\n",
       "  </tbody>\n",
       "</table>\n",
       "</div>"
      ],
      "text/plain": [
       "       names  grade\n",
       "0      Aidan     90\n",
       "1  Christian     85\n",
       "2      Bryan     80"
      ]
     },
     "execution_count": 49,
     "metadata": {},
     "output_type": "execute_result"
    }
   ],
   "source": [
    "df2"
   ]
  },
  {
   "cell_type": "markdown",
   "metadata": {},
   "source": [
    "The code cell below creates a new DataFrame `df3`."
   ]
  },
  {
   "cell_type": "code",
   "execution_count": 50,
   "metadata": {},
   "outputs": [
    {
     "data": {
      "text/html": [
       "<div>\n",
       "<style scoped>\n",
       "    .dataframe tbody tr th:only-of-type {\n",
       "        vertical-align: middle;\n",
       "    }\n",
       "\n",
       "    .dataframe tbody tr th {\n",
       "        vertical-align: top;\n",
       "    }\n",
       "\n",
       "    .dataframe thead th {\n",
       "        text-align: right;\n",
       "    }\n",
       "</style>\n",
       "<table border=\"1\" class=\"dataframe\">\n",
       "  <thead>\n",
       "    <tr style=\"text-align: right;\">\n",
       "      <th></th>\n",
       "      <th>country_code</th>\n",
       "      <th>phone</th>\n",
       "      <th>grade</th>\n",
       "      <th>n_credits</th>\n",
       "    </tr>\n",
       "  </thead>\n",
       "  <tbody>\n",
       "    <tr>\n",
       "      <th>0</th>\n",
       "      <td>+32</td>\n",
       "      <td>(874)-444-0000</td>\n",
       "      <td>B</td>\n",
       "      <td>12</td>\n",
       "    </tr>\n",
       "    <tr>\n",
       "      <th>1</th>\n",
       "      <td>+44</td>\n",
       "      <td>(575)-755-1000</td>\n",
       "      <td>B+</td>\n",
       "      <td>3</td>\n",
       "    </tr>\n",
       "    <tr>\n",
       "      <th>2</th>\n",
       "      <td>+11</td>\n",
       "      <td>(990)-006-0660</td>\n",
       "      <td>A</td>\n",
       "      <td>9</td>\n",
       "    </tr>\n",
       "  </tbody>\n",
       "</table>\n",
       "</div>"
      ],
      "text/plain": [
       "  country_code           phone grade  n_credits\n",
       "0          +32  (874)-444-0000     B         12\n",
       "1          +44  (575)-755-1000    B+          3\n",
       "2          +11  (990)-006-0660     A          9"
      ]
     },
     "execution_count": 50,
     "metadata": {},
     "output_type": "execute_result"
    }
   ],
   "source": [
    "my_dict3 = {'country_code': ['+32', '+44', '+11'], 'phone':['(874)-444-0000', '(575)-755-1000', '(990)-006-0660'], 'grade':['B', 'B+', 'A'], 'n_credits': [12, 3, 9]}\n",
    "\n",
    "df3 = pd.DataFrame(my_dict3)\n",
    "df3"
   ]
  },
  {
   "cell_type": "markdown",
   "metadata": {},
   "source": [
    "The following code cell merges both DataFrames based on the values contained in the `phone` column. If one column in both DataFrames contains the same value, the rows in which the value appears are merged. Otherwise, the row will not be included in the updated DataFrame. Run the code cell below and inspect the results. Note that the values in DataFrame `df2` will be automatically changed by `merge()`. "
   ]
  },
  {
   "cell_type": "code",
   "execution_count": 51,
   "metadata": {},
   "outputs": [
    {
     "name": "stdout",
     "output_type": "stream",
     "text": [
      "   names         phone  grade        address\n",
      "0  David  123-456-7890     85    123 Main St\n",
      "1    Eva  987-654-3210     92  456 Maple Ave\n"
     ]
    }
   ],
   "source": [
    "import pandas as pd\n",
    "data2 = {\n",
    "    'names': ['David', 'Eva', 'Frank'],\n",
    "    'phone': ['123-456-7890', '987-654-3210', '555-555-5555'],\n",
    "    'grade': [85, 92, 78]\n",
    "}\n",
    "df2 = pd.DataFrame(data2)\n",
    "\n",
    "data3 = {\n",
    "    'phone': ['123-456-7890', '987-654-3210', '444-444-4444'],\n",
    "    'address': ['123 Main St', '456 Maple Ave', '789 Oak Dr']\n",
    "}\n",
    "df3 = pd.DataFrame(data3)\n",
    "\n",
    "df_merged = df2.merge(df3, on='phone')\n",
    "\n",
    "print(df_merged)"
   ]
  },
  {
   "cell_type": "markdown",
   "metadata": {},
   "source": [
    "## Practice Working With a Dataset"
   ]
  },
  {
   "cell_type": "markdown",
   "metadata": {},
   "source": [
    "We are now well equipped to deal with a real dataset! Our dataset will contain information about New York City listings on the Airbnb platform.\n",
    "\n",
    "### a. Load the dataset: `pd.read_csv()`\n",
    "\n",
    "The code cell below loads a dataset from a CSV file and saves it to a Pandas DataFrame. \n",
    "\n",
    "First, we will import the `OS` module. This module enables you to interact with the operating system, allowing you access to file names, etc.\n",
    "\n"
   ]
  },
  {
   "cell_type": "code",
   "execution_count": 52,
   "metadata": {},
   "outputs": [],
   "source": [
    "import os "
   ]
  },
  {
   "cell_type": "markdown",
   "metadata": {},
   "source": [
    "Next, we will use the `os.path.join()` method to obtain a path to our data file. This method concatenates different path components (i.e. directories and a file name, into one file system path). We will save the results of this method to the variable name `filename`.\n",
    "\n",
    "Now that we have a path to our CSV file, we will use the `pd.read_csv()` method to load the CSV file into a Pandas DataFrame named `dataFrame`.\n",
    "\n",
    "Examine the code in the cell below and run the cell.\n",
    "\n",
    "<b>Note</b>: the cell below may generate a warning. Ignore the warning. "
   ]
  },
  {
   "cell_type": "code",
   "execution_count": 53,
   "metadata": {},
   "outputs": [
    {
     "name": "stderr",
     "output_type": "stream",
     "text": [
      "/usr/local/lib/python3.6/dist-packages/IPython/core/interactiveshell.py:2728: DtypeWarning: Columns (56) have mixed types.Specify dtype option on import or set low_memory=False.\n",
      "  interactivity=interactivity, compiler=compiler, result=result)\n"
     ]
    }
   ],
   "source": [
    "filename = os.path.join(os.getcwd(), \"data\", \"airbnbData.csv\") \n",
    "dataFrame = pd.read_csv(filename)"
   ]
  },
  {
   "cell_type": "code",
   "execution_count": 54,
   "metadata": {},
   "outputs": [
    {
     "data": {
      "text/plain": [
       "(38277, 63)"
      ]
     },
     "execution_count": 54,
     "metadata": {},
     "output_type": "execute_result"
    }
   ],
   "source": [
    "dataFrame.shape"
   ]
  },
  {
   "cell_type": "markdown",
   "metadata": {},
   "source": [
    "First, get a peek at the data:"
   ]
  },
  {
   "cell_type": "code",
   "execution_count": 55,
   "metadata": {},
   "outputs": [
    {
     "data": {
      "text/html": [
       "<div>\n",
       "<style scoped>\n",
       "    .dataframe tbody tr th:only-of-type {\n",
       "        vertical-align: middle;\n",
       "    }\n",
       "\n",
       "    .dataframe tbody tr th {\n",
       "        vertical-align: top;\n",
       "    }\n",
       "\n",
       "    .dataframe thead th {\n",
       "        text-align: right;\n",
       "    }\n",
       "</style>\n",
       "<table border=\"1\" class=\"dataframe\">\n",
       "  <thead>\n",
       "    <tr style=\"text-align: right;\">\n",
       "      <th></th>\n",
       "      <th>id</th>\n",
       "      <th>scrape_id</th>\n",
       "      <th>last_scraped</th>\n",
       "      <th>host_id</th>\n",
       "      <th>host_since</th>\n",
       "      <th>host_response_time</th>\n",
       "      <th>host_response_rate</th>\n",
       "      <th>host_acceptance_rate</th>\n",
       "      <th>host_is_superhost</th>\n",
       "      <th>host_neighbourhood</th>\n",
       "      <th>...</th>\n",
       "      <th>review_scores_communication</th>\n",
       "      <th>review_scores_location</th>\n",
       "      <th>review_scores_value</th>\n",
       "      <th>license</th>\n",
       "      <th>instant_bookable</th>\n",
       "      <th>calculated_host_listings_count</th>\n",
       "      <th>calculated_host_listings_count_entire_homes</th>\n",
       "      <th>calculated_host_listings_count_private_rooms</th>\n",
       "      <th>calculated_host_listings_count_shared_rooms</th>\n",
       "      <th>reviews_per_month</th>\n",
       "    </tr>\n",
       "  </thead>\n",
       "  <tbody>\n",
       "    <tr>\n",
       "      <th>0</th>\n",
       "      <td>2595</td>\n",
       "      <td>2.021120e+13</td>\n",
       "      <td>12/5/21</td>\n",
       "      <td>2845</td>\n",
       "      <td>9/9/08</td>\n",
       "      <td>within a day</td>\n",
       "      <td>80%</td>\n",
       "      <td>17%</td>\n",
       "      <td>f</td>\n",
       "      <td>Midtown</td>\n",
       "      <td>...</td>\n",
       "      <td>4.79</td>\n",
       "      <td>4.86</td>\n",
       "      <td>4.41</td>\n",
       "      <td>NaN</td>\n",
       "      <td>f</td>\n",
       "      <td>3</td>\n",
       "      <td>3</td>\n",
       "      <td>0</td>\n",
       "      <td>0</td>\n",
       "      <td>0.33</td>\n",
       "    </tr>\n",
       "    <tr>\n",
       "      <th>1</th>\n",
       "      <td>3831</td>\n",
       "      <td>2.021120e+13</td>\n",
       "      <td>12/5/21</td>\n",
       "      <td>4869</td>\n",
       "      <td>12/7/08</td>\n",
       "      <td>a few days or more</td>\n",
       "      <td>9%</td>\n",
       "      <td>69%</td>\n",
       "      <td>f</td>\n",
       "      <td>Clinton Hill</td>\n",
       "      <td>...</td>\n",
       "      <td>4.80</td>\n",
       "      <td>4.71</td>\n",
       "      <td>4.64</td>\n",
       "      <td>NaN</td>\n",
       "      <td>f</td>\n",
       "      <td>1</td>\n",
       "      <td>1</td>\n",
       "      <td>0</td>\n",
       "      <td>0</td>\n",
       "      <td>4.86</td>\n",
       "    </tr>\n",
       "    <tr>\n",
       "      <th>2</th>\n",
       "      <td>5121</td>\n",
       "      <td>2.021120e+13</td>\n",
       "      <td>12/5/21</td>\n",
       "      <td>7356</td>\n",
       "      <td>2/3/09</td>\n",
       "      <td>within an hour</td>\n",
       "      <td>100%</td>\n",
       "      <td>100%</td>\n",
       "      <td>f</td>\n",
       "      <td>Bedford-Stuyvesant</td>\n",
       "      <td>...</td>\n",
       "      <td>4.91</td>\n",
       "      <td>4.47</td>\n",
       "      <td>4.52</td>\n",
       "      <td>NaN</td>\n",
       "      <td>f</td>\n",
       "      <td>2</td>\n",
       "      <td>0</td>\n",
       "      <td>2</td>\n",
       "      <td>0</td>\n",
       "      <td>0.52</td>\n",
       "    </tr>\n",
       "    <tr>\n",
       "      <th>3</th>\n",
       "      <td>5136</td>\n",
       "      <td>2.021120e+13</td>\n",
       "      <td>12/5/21</td>\n",
       "      <td>7378</td>\n",
       "      <td>2/3/09</td>\n",
       "      <td>within a day</td>\n",
       "      <td>100%</td>\n",
       "      <td>25%</td>\n",
       "      <td>f</td>\n",
       "      <td>Greenwood Heights</td>\n",
       "      <td>...</td>\n",
       "      <td>5.00</td>\n",
       "      <td>4.50</td>\n",
       "      <td>5.00</td>\n",
       "      <td>NaN</td>\n",
       "      <td>f</td>\n",
       "      <td>1</td>\n",
       "      <td>1</td>\n",
       "      <td>0</td>\n",
       "      <td>0</td>\n",
       "      <td>0.02</td>\n",
       "    </tr>\n",
       "    <tr>\n",
       "      <th>4</th>\n",
       "      <td>5178</td>\n",
       "      <td>2.021120e+13</td>\n",
       "      <td>12/5/21</td>\n",
       "      <td>8967</td>\n",
       "      <td>3/3/09</td>\n",
       "      <td>within a day</td>\n",
       "      <td>100%</td>\n",
       "      <td>100%</td>\n",
       "      <td>f</td>\n",
       "      <td>Hell's Kitchen</td>\n",
       "      <td>...</td>\n",
       "      <td>4.42</td>\n",
       "      <td>4.87</td>\n",
       "      <td>4.36</td>\n",
       "      <td>NaN</td>\n",
       "      <td>f</td>\n",
       "      <td>1</td>\n",
       "      <td>0</td>\n",
       "      <td>1</td>\n",
       "      <td>0</td>\n",
       "      <td>3.68</td>\n",
       "    </tr>\n",
       "  </tbody>\n",
       "</table>\n",
       "<p>5 rows × 63 columns</p>\n",
       "</div>"
      ],
      "text/plain": [
       "     id     scrape_id last_scraped  host_id host_since  host_response_time  \\\n",
       "0  2595  2.021120e+13      12/5/21     2845     9/9/08        within a day   \n",
       "1  3831  2.021120e+13      12/5/21     4869    12/7/08  a few days or more   \n",
       "2  5121  2.021120e+13      12/5/21     7356     2/3/09      within an hour   \n",
       "3  5136  2.021120e+13      12/5/21     7378     2/3/09        within a day   \n",
       "4  5178  2.021120e+13      12/5/21     8967     3/3/09        within a day   \n",
       "\n",
       "  host_response_rate host_acceptance_rate host_is_superhost  \\\n",
       "0                80%                  17%                 f   \n",
       "1                 9%                  69%                 f   \n",
       "2               100%                 100%                 f   \n",
       "3               100%                  25%                 f   \n",
       "4               100%                 100%                 f   \n",
       "\n",
       "   host_neighbourhood  ...  review_scores_communication  \\\n",
       "0             Midtown  ...                         4.79   \n",
       "1        Clinton Hill  ...                         4.80   \n",
       "2  Bedford-Stuyvesant  ...                         4.91   \n",
       "3   Greenwood Heights  ...                         5.00   \n",
       "4      Hell's Kitchen  ...                         4.42   \n",
       "\n",
       "   review_scores_location review_scores_value license instant_bookable  \\\n",
       "0                    4.86                4.41     NaN                f   \n",
       "1                    4.71                4.64     NaN                f   \n",
       "2                    4.47                4.52     NaN                f   \n",
       "3                    4.50                5.00     NaN                f   \n",
       "4                    4.87                4.36     NaN                f   \n",
       "\n",
       "  calculated_host_listings_count calculated_host_listings_count_entire_homes  \\\n",
       "0                              3                                           3   \n",
       "1                              1                                           1   \n",
       "2                              2                                           0   \n",
       "3                              1                                           1   \n",
       "4                              1                                           0   \n",
       "\n",
       "  calculated_host_listings_count_private_rooms  \\\n",
       "0                                            0   \n",
       "1                                            0   \n",
       "2                                            2   \n",
       "3                                            0   \n",
       "4                                            1   \n",
       "\n",
       "   calculated_host_listings_count_shared_rooms  reviews_per_month  \n",
       "0                                            0               0.33  \n",
       "1                                            0               4.86  \n",
       "2                                            0               0.52  \n",
       "3                                            0               0.02  \n",
       "4                                            0               3.68  \n",
       "\n",
       "[5 rows x 63 columns]"
      ]
     },
     "execution_count": 55,
     "metadata": {},
     "output_type": "execute_result"
    }
   ],
   "source": [
    "dataFrame.head()"
   ]
  },
  {
   "cell_type": "markdown",
   "metadata": {},
   "source": [
    "When using the `head()` method, you can specify the number of rows you would like to see by calling `head()` with an integer parameter (e.g. `head(2)`)."
   ]
  },
  {
   "cell_type": "markdown",
   "metadata": {},
   "source": [
    "### b. Get column names: `df.columns`\n",
    "\n",
    "Let us retrieve just the list of column names."
   ]
  },
  {
   "cell_type": "code",
   "execution_count": 56,
   "metadata": {},
   "outputs": [
    {
     "data": {
      "text/plain": [
       "['id',\n",
       " 'scrape_id',\n",
       " 'last_scraped',\n",
       " 'host_id',\n",
       " 'host_since',\n",
       " 'host_response_time',\n",
       " 'host_response_rate',\n",
       " 'host_acceptance_rate',\n",
       " 'host_is_superhost',\n",
       " 'host_neighbourhood',\n",
       " 'host_listings_count',\n",
       " 'host_total_listings_count',\n",
       " 'host_verifications',\n",
       " 'host_has_profile_pic',\n",
       " 'host_identity_verified',\n",
       " 'neighbourhood',\n",
       " 'neighbourhood_cleansed',\n",
       " 'neighbourhood_group_cleansed',\n",
       " 'latitude',\n",
       " 'longitude',\n",
       " 'property_type',\n",
       " 'room_type',\n",
       " 'accommodates',\n",
       " 'bathrooms',\n",
       " 'bathrooms_text',\n",
       " 'bedrooms',\n",
       " 'beds',\n",
       " 'amenities',\n",
       " 'price',\n",
       " 'minimum_nights',\n",
       " 'maximum_nights',\n",
       " 'minimum_minimum_nights',\n",
       " 'maximum_minimum_nights',\n",
       " 'minimum_maximum_nights',\n",
       " 'maximum_maximum_nights',\n",
       " 'minimum_nights_avg_ntm',\n",
       " 'maximum_nights_avg_ntm',\n",
       " 'calendar_updated',\n",
       " 'has_availability',\n",
       " 'availability_30',\n",
       " 'availability_60',\n",
       " 'availability_90',\n",
       " 'availability_365',\n",
       " 'calendar_last_scraped',\n",
       " 'number_of_reviews',\n",
       " 'number_of_reviews_ltm',\n",
       " 'number_of_reviews_l30d',\n",
       " 'first_review',\n",
       " 'last_review',\n",
       " 'review_scores_rating',\n",
       " 'review_scores_accuracy',\n",
       " 'review_scores_cleanliness',\n",
       " 'review_scores_checkin',\n",
       " 'review_scores_communication',\n",
       " 'review_scores_location',\n",
       " 'review_scores_value',\n",
       " 'license',\n",
       " 'instant_bookable',\n",
       " 'calculated_host_listings_count',\n",
       " 'calculated_host_listings_count_entire_homes',\n",
       " 'calculated_host_listings_count_private_rooms',\n",
       " 'calculated_host_listings_count_shared_rooms',\n",
       " 'reviews_per_month']"
      ]
     },
     "execution_count": 56,
     "metadata": {},
     "output_type": "execute_result"
    }
   ],
   "source": [
    "list(dataFrame.columns)"
   ]
  },
  {
   "cell_type": "markdown",
   "metadata": {},
   "source": [
    "What do the column names mean? Some of them are less intuitively interpretable than others. <br>\n",
    "Careful data documentation is indispensable for business analytics. You can consult the documentation that accompanies this open source dataset for a detailed description of the key variable names, what they represent, and how they were generated."
   ]
  },
  {
   "cell_type": "markdown",
   "metadata": {},
   "source": [
    "### c. Summary statistics of the DataFrame: `df.describe()`"
   ]
  },
  {
   "cell_type": "markdown",
   "metadata": {},
   "source": [
    "Let's print some general statistics for each one of the `data` columns:"
   ]
  },
  {
   "cell_type": "code",
   "execution_count": 57,
   "metadata": {},
   "outputs": [
    {
     "data": {
      "text/html": [
       "<div>\n",
       "<style scoped>\n",
       "    .dataframe tbody tr th:only-of-type {\n",
       "        vertical-align: middle;\n",
       "    }\n",
       "\n",
       "    .dataframe tbody tr th {\n",
       "        vertical-align: top;\n",
       "    }\n",
       "\n",
       "    .dataframe thead th {\n",
       "        text-align: right;\n",
       "    }\n",
       "</style>\n",
       "<table border=\"1\" class=\"dataframe\">\n",
       "  <thead>\n",
       "    <tr style=\"text-align: right;\">\n",
       "      <th></th>\n",
       "      <th>id</th>\n",
       "      <th>scrape_id</th>\n",
       "      <th>last_scraped</th>\n",
       "      <th>host_id</th>\n",
       "      <th>host_since</th>\n",
       "      <th>host_response_time</th>\n",
       "      <th>host_response_rate</th>\n",
       "      <th>host_acceptance_rate</th>\n",
       "      <th>host_is_superhost</th>\n",
       "      <th>host_neighbourhood</th>\n",
       "      <th>...</th>\n",
       "      <th>review_scores_communication</th>\n",
       "      <th>review_scores_location</th>\n",
       "      <th>review_scores_value</th>\n",
       "      <th>license</th>\n",
       "      <th>instant_bookable</th>\n",
       "      <th>calculated_host_listings_count</th>\n",
       "      <th>calculated_host_listings_count_entire_homes</th>\n",
       "      <th>calculated_host_listings_count_private_rooms</th>\n",
       "      <th>calculated_host_listings_count_shared_rooms</th>\n",
       "      <th>reviews_per_month</th>\n",
       "    </tr>\n",
       "  </thead>\n",
       "  <tbody>\n",
       "    <tr>\n",
       "      <th>count</th>\n",
       "      <td>3.827700e+04</td>\n",
       "      <td>3.827700e+04</td>\n",
       "      <td>38277</td>\n",
       "      <td>3.827700e+04</td>\n",
       "      <td>38243</td>\n",
       "      <td>21084</td>\n",
       "      <td>21084</td>\n",
       "      <td>21791</td>\n",
       "      <td>38243</td>\n",
       "      <td>30813</td>\n",
       "      <td>...</td>\n",
       "      <td>28165.000000</td>\n",
       "      <td>28151.000000</td>\n",
       "      <td>28150.000000</td>\n",
       "      <td>1</td>\n",
       "      <td>38277</td>\n",
       "      <td>38277.000000</td>\n",
       "      <td>38277.000000</td>\n",
       "      <td>38277.000000</td>\n",
       "      <td>38277.000000</td>\n",
       "      <td>28773.000000</td>\n",
       "    </tr>\n",
       "    <tr>\n",
       "      <th>unique</th>\n",
       "      <td>NaN</td>\n",
       "      <td>NaN</td>\n",
       "      <td>2</td>\n",
       "      <td>NaN</td>\n",
       "      <td>4289</td>\n",
       "      <td>4</td>\n",
       "      <td>88</td>\n",
       "      <td>101</td>\n",
       "      <td>2</td>\n",
       "      <td>484</td>\n",
       "      <td>...</td>\n",
       "      <td>NaN</td>\n",
       "      <td>NaN</td>\n",
       "      <td>NaN</td>\n",
       "      <td>1</td>\n",
       "      <td>2</td>\n",
       "      <td>NaN</td>\n",
       "      <td>NaN</td>\n",
       "      <td>NaN</td>\n",
       "      <td>NaN</td>\n",
       "      <td>NaN</td>\n",
       "    </tr>\n",
       "    <tr>\n",
       "      <th>top</th>\n",
       "      <td>NaN</td>\n",
       "      <td>NaN</td>\n",
       "      <td>12/5/21</td>\n",
       "      <td>NaN</td>\n",
       "      <td>10/29/19</td>\n",
       "      <td>within an hour</td>\n",
       "      <td>100%</td>\n",
       "      <td>100%</td>\n",
       "      <td>f</td>\n",
       "      <td>Bedford-Stuyvesant</td>\n",
       "      <td>...</td>\n",
       "      <td>NaN</td>\n",
       "      <td>NaN</td>\n",
       "      <td>NaN</td>\n",
       "      <td>41662/AL</td>\n",
       "      <td>f</td>\n",
       "      <td>NaN</td>\n",
       "      <td>NaN</td>\n",
       "      <td>NaN</td>\n",
       "      <td>NaN</td>\n",
       "      <td>NaN</td>\n",
       "    </tr>\n",
       "    <tr>\n",
       "      <th>freq</th>\n",
       "      <td>NaN</td>\n",
       "      <td>NaN</td>\n",
       "      <td>31879</td>\n",
       "      <td>NaN</td>\n",
       "      <td>433</td>\n",
       "      <td>11151</td>\n",
       "      <td>13299</td>\n",
       "      <td>5342</td>\n",
       "      <td>30865</td>\n",
       "      <td>2138</td>\n",
       "      <td>...</td>\n",
       "      <td>NaN</td>\n",
       "      <td>NaN</td>\n",
       "      <td>NaN</td>\n",
       "      <td>1</td>\n",
       "      <td>27851</td>\n",
       "      <td>NaN</td>\n",
       "      <td>NaN</td>\n",
       "      <td>NaN</td>\n",
       "      <td>NaN</td>\n",
       "      <td>NaN</td>\n",
       "    </tr>\n",
       "    <tr>\n",
       "      <th>mean</th>\n",
       "      <td>2.962239e+07</td>\n",
       "      <td>2.021120e+13</td>\n",
       "      <td>NaN</td>\n",
       "      <td>1.148305e+08</td>\n",
       "      <td>NaN</td>\n",
       "      <td>NaN</td>\n",
       "      <td>NaN</td>\n",
       "      <td>NaN</td>\n",
       "      <td>NaN</td>\n",
       "      <td>NaN</td>\n",
       "      <td>...</td>\n",
       "      <td>4.807454</td>\n",
       "      <td>4.750307</td>\n",
       "      <td>4.646892</td>\n",
       "      <td>NaN</td>\n",
       "      <td>NaN</td>\n",
       "      <td>17.747655</td>\n",
       "      <td>8.042637</td>\n",
       "      <td>9.593934</td>\n",
       "      <td>0.047966</td>\n",
       "      <td>1.721019</td>\n",
       "    </tr>\n",
       "    <tr>\n",
       "      <th>std</th>\n",
       "      <td>1.742239e+07</td>\n",
       "      <td>0.000000e+00</td>\n",
       "      <td>NaN</td>\n",
       "      <td>1.299194e+08</td>\n",
       "      <td>NaN</td>\n",
       "      <td>NaN</td>\n",
       "      <td>NaN</td>\n",
       "      <td>NaN</td>\n",
       "      <td>NaN</td>\n",
       "      <td>NaN</td>\n",
       "      <td>...</td>\n",
       "      <td>0.465544</td>\n",
       "      <td>0.416101</td>\n",
       "      <td>0.518905</td>\n",
       "      <td>NaN</td>\n",
       "      <td>NaN</td>\n",
       "      <td>59.150451</td>\n",
       "      <td>34.977178</td>\n",
       "      <td>43.310123</td>\n",
       "      <td>0.426789</td>\n",
       "      <td>4.399826</td>\n",
       "    </tr>\n",
       "    <tr>\n",
       "      <th>min</th>\n",
       "      <td>2.595000e+03</td>\n",
       "      <td>2.021120e+13</td>\n",
       "      <td>NaN</td>\n",
       "      <td>2.438000e+03</td>\n",
       "      <td>NaN</td>\n",
       "      <td>NaN</td>\n",
       "      <td>NaN</td>\n",
       "      <td>NaN</td>\n",
       "      <td>NaN</td>\n",
       "      <td>NaN</td>\n",
       "      <td>...</td>\n",
       "      <td>0.000000</td>\n",
       "      <td>0.000000</td>\n",
       "      <td>0.000000</td>\n",
       "      <td>NaN</td>\n",
       "      <td>NaN</td>\n",
       "      <td>1.000000</td>\n",
       "      <td>0.000000</td>\n",
       "      <td>0.000000</td>\n",
       "      <td>0.000000</td>\n",
       "      <td>0.010000</td>\n",
       "    </tr>\n",
       "    <tr>\n",
       "      <th>25%</th>\n",
       "      <td>1.341048e+07</td>\n",
       "      <td>2.021120e+13</td>\n",
       "      <td>NaN</td>\n",
       "      <td>1.139462e+07</td>\n",
       "      <td>NaN</td>\n",
       "      <td>NaN</td>\n",
       "      <td>NaN</td>\n",
       "      <td>NaN</td>\n",
       "      <td>NaN</td>\n",
       "      <td>NaN</td>\n",
       "      <td>...</td>\n",
       "      <td>4.810000</td>\n",
       "      <td>4.670000</td>\n",
       "      <td>4.550000</td>\n",
       "      <td>NaN</td>\n",
       "      <td>NaN</td>\n",
       "      <td>1.000000</td>\n",
       "      <td>0.000000</td>\n",
       "      <td>0.000000</td>\n",
       "      <td>0.000000</td>\n",
       "      <td>0.120000</td>\n",
       "    </tr>\n",
       "    <tr>\n",
       "      <th>50%</th>\n",
       "      <td>3.081269e+07</td>\n",
       "      <td>2.021120e+13</td>\n",
       "      <td>NaN</td>\n",
       "      <td>5.005297e+07</td>\n",
       "      <td>NaN</td>\n",
       "      <td>NaN</td>\n",
       "      <td>NaN</td>\n",
       "      <td>NaN</td>\n",
       "      <td>NaN</td>\n",
       "      <td>NaN</td>\n",
       "      <td>...</td>\n",
       "      <td>4.970000</td>\n",
       "      <td>4.880000</td>\n",
       "      <td>4.780000</td>\n",
       "      <td>NaN</td>\n",
       "      <td>NaN</td>\n",
       "      <td>1.000000</td>\n",
       "      <td>1.000000</td>\n",
       "      <td>0.000000</td>\n",
       "      <td>0.000000</td>\n",
       "      <td>0.480000</td>\n",
       "    </tr>\n",
       "    <tr>\n",
       "      <th>75%</th>\n",
       "      <td>4.642855e+07</td>\n",
       "      <td>2.021120e+13</td>\n",
       "      <td>NaN</td>\n",
       "      <td>2.002395e+08</td>\n",
       "      <td>NaN</td>\n",
       "      <td>NaN</td>\n",
       "      <td>NaN</td>\n",
       "      <td>NaN</td>\n",
       "      <td>NaN</td>\n",
       "      <td>NaN</td>\n",
       "      <td>...</td>\n",
       "      <td>5.000000</td>\n",
       "      <td>5.000000</td>\n",
       "      <td>5.000000</td>\n",
       "      <td>NaN</td>\n",
       "      <td>NaN</td>\n",
       "      <td>3.000000</td>\n",
       "      <td>1.000000</td>\n",
       "      <td>1.000000</td>\n",
       "      <td>0.000000</td>\n",
       "      <td>1.780000</td>\n",
       "    </tr>\n",
       "    <tr>\n",
       "      <th>max</th>\n",
       "      <td>5.366510e+07</td>\n",
       "      <td>2.021120e+13</td>\n",
       "      <td>NaN</td>\n",
       "      <td>4.344080e+08</td>\n",
       "      <td>NaN</td>\n",
       "      <td>NaN</td>\n",
       "      <td>NaN</td>\n",
       "      <td>NaN</td>\n",
       "      <td>NaN</td>\n",
       "      <td>NaN</td>\n",
       "      <td>...</td>\n",
       "      <td>5.000000</td>\n",
       "      <td>5.000000</td>\n",
       "      <td>5.000000</td>\n",
       "      <td>NaN</td>\n",
       "      <td>NaN</td>\n",
       "      <td>421.000000</td>\n",
       "      <td>308.000000</td>\n",
       "      <td>359.000000</td>\n",
       "      <td>8.000000</td>\n",
       "      <td>141.000000</td>\n",
       "    </tr>\n",
       "  </tbody>\n",
       "</table>\n",
       "<p>11 rows × 63 columns</p>\n",
       "</div>"
      ],
      "text/plain": [
       "                  id     scrape_id last_scraped       host_id host_since  \\\n",
       "count   3.827700e+04  3.827700e+04        38277  3.827700e+04      38243   \n",
       "unique           NaN           NaN            2           NaN       4289   \n",
       "top              NaN           NaN      12/5/21           NaN   10/29/19   \n",
       "freq             NaN           NaN        31879           NaN        433   \n",
       "mean    2.962239e+07  2.021120e+13          NaN  1.148305e+08        NaN   \n",
       "std     1.742239e+07  0.000000e+00          NaN  1.299194e+08        NaN   \n",
       "min     2.595000e+03  2.021120e+13          NaN  2.438000e+03        NaN   \n",
       "25%     1.341048e+07  2.021120e+13          NaN  1.139462e+07        NaN   \n",
       "50%     3.081269e+07  2.021120e+13          NaN  5.005297e+07        NaN   \n",
       "75%     4.642855e+07  2.021120e+13          NaN  2.002395e+08        NaN   \n",
       "max     5.366510e+07  2.021120e+13          NaN  4.344080e+08        NaN   \n",
       "\n",
       "       host_response_time host_response_rate host_acceptance_rate  \\\n",
       "count               21084              21084                21791   \n",
       "unique                  4                 88                  101   \n",
       "top        within an hour               100%                 100%   \n",
       "freq                11151              13299                 5342   \n",
       "mean                  NaN                NaN                  NaN   \n",
       "std                   NaN                NaN                  NaN   \n",
       "min                   NaN                NaN                  NaN   \n",
       "25%                   NaN                NaN                  NaN   \n",
       "50%                   NaN                NaN                  NaN   \n",
       "75%                   NaN                NaN                  NaN   \n",
       "max                   NaN                NaN                  NaN   \n",
       "\n",
       "       host_is_superhost  host_neighbourhood  ...  \\\n",
       "count              38243               30813  ...   \n",
       "unique                 2                 484  ...   \n",
       "top                    f  Bedford-Stuyvesant  ...   \n",
       "freq               30865                2138  ...   \n",
       "mean                 NaN                 NaN  ...   \n",
       "std                  NaN                 NaN  ...   \n",
       "min                  NaN                 NaN  ...   \n",
       "25%                  NaN                 NaN  ...   \n",
       "50%                  NaN                 NaN  ...   \n",
       "75%                  NaN                 NaN  ...   \n",
       "max                  NaN                 NaN  ...   \n",
       "\n",
       "        review_scores_communication  review_scores_location  \\\n",
       "count                  28165.000000            28151.000000   \n",
       "unique                          NaN                     NaN   \n",
       "top                             NaN                     NaN   \n",
       "freq                            NaN                     NaN   \n",
       "mean                       4.807454                4.750307   \n",
       "std                        0.465544                0.416101   \n",
       "min                        0.000000                0.000000   \n",
       "25%                        4.810000                4.670000   \n",
       "50%                        4.970000                4.880000   \n",
       "75%                        5.000000                5.000000   \n",
       "max                        5.000000                5.000000   \n",
       "\n",
       "       review_scores_value   license instant_bookable  \\\n",
       "count         28150.000000         1            38277   \n",
       "unique                 NaN         1                2   \n",
       "top                    NaN  41662/AL                f   \n",
       "freq                   NaN         1            27851   \n",
       "mean              4.646892       NaN              NaN   \n",
       "std               0.518905       NaN              NaN   \n",
       "min               0.000000       NaN              NaN   \n",
       "25%               4.550000       NaN              NaN   \n",
       "50%               4.780000       NaN              NaN   \n",
       "75%               5.000000       NaN              NaN   \n",
       "max               5.000000       NaN              NaN   \n",
       "\n",
       "       calculated_host_listings_count  \\\n",
       "count                    38277.000000   \n",
       "unique                            NaN   \n",
       "top                               NaN   \n",
       "freq                              NaN   \n",
       "mean                        17.747655   \n",
       "std                         59.150451   \n",
       "min                          1.000000   \n",
       "25%                          1.000000   \n",
       "50%                          1.000000   \n",
       "75%                          3.000000   \n",
       "max                        421.000000   \n",
       "\n",
       "       calculated_host_listings_count_entire_homes  \\\n",
       "count                                 38277.000000   \n",
       "unique                                         NaN   \n",
       "top                                            NaN   \n",
       "freq                                           NaN   \n",
       "mean                                      8.042637   \n",
       "std                                      34.977178   \n",
       "min                                       0.000000   \n",
       "25%                                       0.000000   \n",
       "50%                                       1.000000   \n",
       "75%                                       1.000000   \n",
       "max                                     308.000000   \n",
       "\n",
       "       calculated_host_listings_count_private_rooms  \\\n",
       "count                                  38277.000000   \n",
       "unique                                          NaN   \n",
       "top                                             NaN   \n",
       "freq                                            NaN   \n",
       "mean                                       9.593934   \n",
       "std                                       43.310123   \n",
       "min                                        0.000000   \n",
       "25%                                        0.000000   \n",
       "50%                                        0.000000   \n",
       "75%                                        1.000000   \n",
       "max                                      359.000000   \n",
       "\n",
       "        calculated_host_listings_count_shared_rooms  reviews_per_month  \n",
       "count                                  38277.000000       28773.000000  \n",
       "unique                                          NaN                NaN  \n",
       "top                                             NaN                NaN  \n",
       "freq                                            NaN                NaN  \n",
       "mean                                       0.047966           1.721019  \n",
       "std                                        0.426789           4.399826  \n",
       "min                                        0.000000           0.010000  \n",
       "25%                                        0.000000           0.120000  \n",
       "50%                                        0.000000           0.480000  \n",
       "75%                                        0.000000           1.780000  \n",
       "max                                        8.000000         141.000000  \n",
       "\n",
       "[11 rows x 63 columns]"
      ]
     },
     "execution_count": 57,
     "metadata": {},
     "output_type": "execute_result"
    }
   ],
   "source": [
    "dataFrame.describe(include='all')"
   ]
  },
  {
   "cell_type": "markdown",
   "metadata": {},
   "source": [
    "### d. Filtering the data: `df[ < condition > ]`"
   ]
  },
  {
   "cell_type": "markdown",
   "metadata": {},
   "source": [
    "Consider the following business question: What is the average availability (out of 365 days in a year) for the listings in Brooklyn? <br>\n",
    "\n",
    "The answer can be obtained by the use of **filters** on the dataset. We need to filter the entries that are in Brooklyn. To do this, we need to know the exact way that Manhattan listings are spelled and entered in the data. Let's print all of the unique values of the `neighbourhood` column:"
   ]
  },
  {
   "cell_type": "code",
   "execution_count": 58,
   "metadata": {},
   "outputs": [
    {
     "data": {
      "text/plain": [
       "array(['New York, United States', 'Brooklyn, New York, United States',\n",
       "       nan, 'Queens, New York, United States',\n",
       "       'Long Island City, New York, United States',\n",
       "       'Astoria, New York, United States',\n",
       "       'Bronx, New York, United States',\n",
       "       'Staten Island, New York, United States',\n",
       "       'Elmhurst, New York, United States',\n",
       "       'Riverdale , New York, United States',\n",
       "       'Briarwood, New York, United States',\n",
       "       'Kips Bay, New York, United States',\n",
       "       'Jackson Heights, New York, United States',\n",
       "       'New York, Manhattan, United States',\n",
       "       'Park Slope, Brooklyn, New York, United States',\n",
       "       'Kew Gardens, New York, United States',\n",
       "       'Flushing, New York, United States',\n",
       "       'Astoria , New York, United States',\n",
       "       'Sunnyside, New York, United States',\n",
       "       'Woodside, New York, United States',\n",
       "       'NY , New York, United States',\n",
       "       'Bushwick, Brooklyn, New York, United States',\n",
       "       'Brooklyn , New York, United States', 'United States',\n",
       "       'Sunnyside , New York, United States',\n",
       "       'LONG ISLAND CITY, New York, United States',\n",
       "       'Astoria, Queens, New York, United States',\n",
       "       'Woodhaven, New York, United States',\n",
       "       'bronx, New York, United States',\n",
       "       'Harlem, New York, United States',\n",
       "       'brooklyn, New York, United States',\n",
       "       'Middle Village, New York, United States',\n",
       "       'BROOKLYN, New York, United States',\n",
       "       'Brooklyn,  Ny 11221, New York, United States',\n",
       "       'Staten Island , New York, United States',\n",
       "       'Greenpoint, Brooklyn, New York, United States',\n",
       "       'Long Island city, New York, United States',\n",
       "       'astoria, New York, United States',\n",
       "       'The Bronx, New York, United States',\n",
       "       'ASTORIA, New York, United States',\n",
       "       'Ridgewood , New York, United States',\n",
       "       'Ridgewood, New York, United States',\n",
       "       'Jamaica, New York, United States',\n",
       "       'Bayside, New York, United States',\n",
       "       'Jackson heights , New York, United States',\n",
       "       'East Elmhurst, New York, United States',\n",
       "       'Williamsburg, Brooklyn, New York, United States',\n",
       "       'Williamsburg, New York, United States',\n",
       "       'LIC, New York, United States',\n",
       "       'Brooklyn. , New York, United States',\n",
       "       'Manhattan, New York, United States',\n",
       "       'New-York, New York, United States',\n",
       "       'Far Rockaway, New York, United States',\n",
       "       'Richmond Hill, New York, United States',\n",
       "       'forest hills/corona, New York, United States',\n",
       "       'Jackson  hights , New York, United States',\n",
       "       'Clinton Hill Brooklyn, New York, United States',\n",
       "       'Flushing , New York, United States',\n",
       "       'Elmhurst , New York, United States',\n",
       "       'Brooklyn, Northern Mariana Islands, United States',\n",
       "       'queens, New York, United States',\n",
       "       'Flushing /Kew Gardens Hills, New York, United States',\n",
       "       'RIVERDALE, New York, United States',\n",
       "       'East elmhurst, New York, United States',\n",
       "       'Forest Hills, New York, United States',\n",
       "       'SUNNYSIDE, New York, United States',\n",
       "       'Maspeth, New York, United States',\n",
       "       'Fresh Meadows , New York, United States',\n",
       "       'NY, New York, United States',\n",
       "       'Floral Park, New York, United States',\n",
       "       'new york, New York, United States',\n",
       "       'Richmond hill, New York, United States',\n",
       "       'Jackson heights, New York, United States',\n",
       "       'Astoria Queens, New York, United States',\n",
       "       'New York city, New York, United States',\n",
       "       'Queens Village, New York, United States',\n",
       "       'New York , New York, United States',\n",
       "       'Corona, New York, United States',\n",
       "       'Gravesend Brooklyn , New York, United States',\n",
       "       'MIDDLE VILLAGE, New York, United States',\n",
       "       'Bronx , New York, United States',\n",
       "       'Bushwick, New York, United States',\n",
       "       'Queens , New York, United States',\n",
       "       'Rockaway beach , New York, United States',\n",
       "       'Arverne, New York, United States',\n",
       "       'flushing , New York, United States',\n",
       "       'Parkchester , New York, United States',\n",
       "       'Fresh meadows, New York, United States',\n",
       "       'flushing, New York, United States',\n",
       "       'Manhattan , New York, United States',\n",
       "       'Kew Gardens , New York, United States',\n",
       "       'Rockaway Beach , New York, United States',\n",
       "       'Rockaway Beach, New York, United States',\n",
       "       'Manhattan, New York, New York, United States',\n",
       "       'Jackson Heights , New York, United States',\n",
       "       'Flush, New York, United States',\n",
       "       'Jamaica , New York, United States',\n",
       "       'Corona , New York, United States',\n",
       "       ' Crown Heights,NY, New York, United States',\n",
       "       'Jamaica , ny, United States',\n",
       "       'ozone park queens , New York, United States',\n",
       "       'Bushwick , New York, United States',\n",
       "       'New York, US, New York, United States',\n",
       "       'Forest hills, New York, United States',\n",
       "       'Woodside , New York, United States',\n",
       "       'Cambria heights , New York, United States',\n",
       "       '8425 Elmhurst avenue , New York, United States',\n",
       "       '纽约市, New York, United States',\n",
       "       'Rego Park, New York, United States',\n",
       "       'Bronx, NY, New York, United States',\n",
       "       'Springfield Gardens , New York, United States',\n",
       "       '纽约, New York, United States', 'Hollis, New York, United States',\n",
       "       'Springfield Gardens, New York, United States',\n",
       "       'FOREST HILLS, New York, United States',\n",
       "       'Brookly , New York, United States',\n",
       "       'elmhurst Queens, New York, United States',\n",
       "       'Ozone Park, New York, United States',\n",
       "       'East elmhurst , New York, United States',\n",
       "       'South Richmond Hill, New York, United States',\n",
       "       'Staten island , New York, United States',\n",
       "       'Glendale , New York, United States',\n",
       "       'Woodhaven , New York, United States',\n",
       "       'New York City , New York, United States',\n",
       "       'Pomona, California, United States',\n",
       "       'Williamsburg, Brooklyn , New York, United States',\n",
       "       'Bronx New York, New York, United States',\n",
       "       'Astoria Queens , New York, United States',\n",
       "       'Fresh Meadows, New York, United States',\n",
       "       'St. Albans , New York, United States',\n",
       "       'New York City, New York, United States',\n",
       "       'Springfield gardens, New York, United States',\n",
       "       'Richmond Hill, Jamaica, Queens, New York, United States',\n",
       "       'west new york , New Jersey, United States',\n",
       "       'East Elmhurst , New York, United States',\n",
       "       'East Elmhurst or Flushing , New York, United States',\n",
       "       'Oakland Gardens , New York, United States',\n",
       "       'Newyork, New York, United States',\n",
       "       'Long island city , New York, United States',\n",
       "       'New york, New York, United States',\n",
       "       'bronx , New York, United States',\n",
       "       'Flushing or east Elmhurst , New York, United States',\n",
       "       'Laurelton , New York, United States',\n",
       "       'Brooklyn, New York, New York, United States',\n",
       "       'Lawrence, New York, United States',\n",
       "       'Bushwick Brooklyn , New York, United States',\n",
       "       'Richmond Hill , New York, United States',\n",
       "       'Brooklyn Heights , New York, United States',\n",
       "       'Rosedale , New York, United States',\n",
       "       'Sunnyside, Queens, New York, United States',\n",
       "       'Middle village, New York, United States',\n",
       "       'BROOKLYN , New York, United States',\n",
       "       'Arverne, Queens, New York, United States',\n",
       "       'Saint Albans , New York, United States',\n",
       "       'Fort Greene, New York, United States',\n",
       "       'Saint Albans, New York, United States',\n",
       "       ' Astoria, New York, United States',\n",
       "       'Maspeth , New York, United States',\n",
       "       'New York,Manhattan , New York, United States',\n",
       "       'Williamsburg , New York, United States',\n",
       "       'Long Island, New York, United States',\n",
       "       'Howard Beach, New York, United States',\n",
       "       'Little neck, New York, United States',\n",
       "       'New York , Ny, United States',\n",
       "       'New York - Sunnyside , New York, United States',\n",
       "       'Glendale, New York, United States',\n",
       "       'Queens Village , New York, United States',\n",
       "       'forest hills, New York, United States',\n",
       "       'NYC , New York, United States',\n",
       "       'Rosedale, New York, United States',\n",
       "       'Queens, Flushing , New York, United States',\n",
       "       'Jamaica queens, New York, United States',\n",
       "       'NEW YORK, New York, United States',\n",
       "       'Laurelton , Queens , New York, United States',\n",
       "       ' Springfield Gardens, New York, United States',\n",
       "       'Queens, Astoria , New York, United States',\n",
       "       'The Bronx (Riverdale), New York, United States',\n",
       "       'Bushwick Brooklyn, New York, United States',\n",
       "       'Laurelton, New York, United States',\n",
       "       'Forest Hill, New York, United States',\n",
       "       ' Forest Hills, New York, United States',\n",
       "       'Long Island City, Queens, New York, United States',\n",
       "       'Brooklyn , Ny, United States',\n",
       "       'Queens village, New York, United States',\n",
       "       'Greenpoint Brooklyn , New York, United States',\n",
       "       'Elmont, New York, United States',\n",
       "       'WOODSIDE , New York, United States',\n",
       "       'Queens, New York , United States',\n",
       "       'Broklyn , New York, United States',\n",
       "       'Queens-Rego Park, New York, United States',\n",
       "       'Rego Park , New York, United States',\n",
       "       'North Bronx (Wakefield), New York, United States',\n",
       "       'Woodside, Queens, New York, United States',\n",
       "       'South Ozone Park, New York, United States',\n",
       "       'woodside, New York, United States',\n",
       "       'Corona queens , New York, United States',\n",
       "       'Nueva York, New York, United States',\n",
       "       'Forest hills , New York, United States',\n",
       "       'New york, Ny, United States',\n",
       "       ' East Elmhurst, New York, United States',\n",
       "       'South ozone park , New York, United States',\n",
       "       'Long Island city , New York, United States',\n",
       "       'New York, Ny, United States',\n",
       "       'Mount Vernon, New York, United States', 'New York, NY, Argentina',\n",
       "       'Montbel, Lozère, France', 'Scottsdale, Arizona, United States',\n",
       "       'Yonkers, New York, United States'], dtype=object)"
      ]
     },
     "execution_count": 58,
     "metadata": {},
     "output_type": "execute_result"
    }
   ],
   "source": [
    "dataFrame['neighbourhood'].unique()"
   ]
  },
  {
   "cell_type": "markdown",
   "metadata": {},
   "source": [
    "You may have noticed that there is a lot of heterogeneity in the way `neighbourhood` values are specified. The values are not standardized. There are overlaps, redundancies, and inconsistencies (e.g., some entries specify ```'Greenpoint, Brooklyn, New York, United States'```, some other ones list `'BROOKLYN, New York, United States',`, yet other ones say `'Williamsburg, Brooklyn, New York, United States'`, etc. In real life, you would have to clean this data and replace these values with standard, identically formated, consistent values. <br>\n",
    "\n",
    "For this dataset, we are lucky to already have a 'cleansed' version of the neighborhood information based on the latitude and the longitude of every listing location. \n",
    "\n",
    "We will list the unique values of the columns titled `neighbourhood_cleansed` and `neighbourhood_group_cleansed`:"
   ]
  },
  {
   "cell_type": "code",
   "execution_count": 59,
   "metadata": {},
   "outputs": [
    {
     "data": {
      "text/plain": [
       "array(['Midtown', 'Bedford-Stuyvesant', 'Sunset Park', 'Upper West Side',\n",
       "       'South Slope', 'Williamsburg', 'East Harlem', 'Fort Greene',\n",
       "       \"Hell's Kitchen\", 'East Village', 'Harlem', 'Flatbush',\n",
       "       'Long Island City', 'Jamaica', 'Greenpoint', 'Nolita', 'Chelsea',\n",
       "       'Upper East Side', 'Prospect Heights', 'Clinton Hill',\n",
       "       'Washington Heights', 'Kips Bay', 'Bushwick', 'Carroll Gardens',\n",
       "       'West Village', 'Park Slope', 'Prospect-Lefferts Gardens',\n",
       "       'Lower East Side', 'East Flatbush', 'Boerum Hill', 'Sunnyside',\n",
       "       'St. George', 'Tribeca', 'Highbridge', 'Ridgewood', 'Mott Haven',\n",
       "       'Morningside Heights', 'Gowanus', 'Ditmars Steinway',\n",
       "       'Middle Village', 'Brooklyn Heights', 'Flatiron District',\n",
       "       'Windsor Terrace', 'Chinatown', 'Greenwich Village',\n",
       "       'Clason Point', 'Crown Heights', 'Astoria', 'Kingsbridge',\n",
       "       'Forest Hills', 'Murray Hill', 'University Heights', 'Gravesend',\n",
       "       'Allerton', 'East New York', 'Stuyvesant Town', 'Sheepshead Bay',\n",
       "       'Emerson Hill', 'Bensonhurst', 'Shore Acres', 'Richmond Hill',\n",
       "       'Gramercy', 'Arrochar', 'Financial District', 'Theater District',\n",
       "       'Rego Park', 'Kensington', 'Woodside', 'Cypress Hills', 'SoHo',\n",
       "       'Little Italy', 'Elmhurst', 'Clifton', 'Bayside', 'Bay Ridge',\n",
       "       'Maspeth', 'Spuyten Duyvil', 'Stapleton', 'Briarwood',\n",
       "       'Battery Park City', 'Brighton Beach', 'Jackson Heights',\n",
       "       'Longwood', 'Inwood', 'Two Bridges', 'Fort Hamilton',\n",
       "       'Cobble Hill', 'New Springville', 'Flushing', 'Red Hook',\n",
       "       'Civic Center', 'Tompkinsville', 'Tottenville', 'NoHo', 'DUMBO',\n",
       "       'Columbia St', 'Glendale', 'Mariners Harbor', 'East Elmhurst',\n",
       "       'Concord', 'Downtown Brooklyn', 'Melrose', 'Kew Gardens',\n",
       "       'College Point', 'Mount Eden', 'Vinegar Hill', 'City Island',\n",
       "       'Canarsie', 'Port Morris', 'Flatlands', 'Arverne',\n",
       "       'Queens Village', 'Midwood', 'Brownsville', 'Williamsbridge',\n",
       "       'Soundview', 'Woodhaven', 'Parkchester', 'Bronxdale',\n",
       "       'Bay Terrace', 'Ozone Park', 'Norwood', 'Rockaway Beach', 'Hollis',\n",
       "       'Claremont Village', 'Fordham', 'Concourse Village',\n",
       "       'Borough Park', 'Fieldston', 'Springfield Gardens', 'Huguenot',\n",
       "       'Mount Hope', 'Wakefield', 'Navy Yard', 'Roosevelt Island',\n",
       "       'Lighthouse Hill', 'Unionport', 'Randall Manor',\n",
       "       'South Ozone Park', 'Kew Gardens Hills', 'Jamaica Estates',\n",
       "       'Concourse', 'Bellerose', 'Fresh Meadows', 'Eastchester',\n",
       "       'Morris Park', 'Far Rockaway', 'East Morrisania', 'Corona',\n",
       "       'Tremont', 'St. Albans', 'West Brighton', 'Manhattan Beach',\n",
       "       'Marble Hill', 'Dongan Hills', 'Morris Heights', 'Belmont',\n",
       "       'Castleton Corners', 'Laurelton', 'Hunts Point', 'Howard Beach',\n",
       "       'Great Kills', 'Pelham Bay', 'Silver Lake', 'Riverdale',\n",
       "       'Morrisania', 'Grymes Hill', 'Holliswood', 'Edgemere',\n",
       "       'New Brighton', 'Pelham Gardens', 'Baychester', 'Sea Gate',\n",
       "       'Belle Harbor', 'Bergen Beach', 'Cambria Heights', 'Richmondtown',\n",
       "       'Olinville', 'Dyker Heights', 'Throgs Neck', 'Coney Island',\n",
       "       'Rosedale', 'Howland Hook', \"Prince's Bay\", 'South Beach',\n",
       "       'Bath Beach', 'Midland Beach', 'Eltingville', 'Oakwood',\n",
       "       'Schuylerville', 'Edenwald', 'North Riverdale', 'Port Richmond',\n",
       "       'Fort Wadsworth', 'Westchester Square', 'Van Nest',\n",
       "       'Arden Heights', \"Bull's Head\", 'Woodlawn', 'New Dorp', 'Neponsit',\n",
       "       'Grant City', 'Bayswater', 'Douglaston', 'New Dorp Beach',\n",
       "       'Todt Hill', 'Mill Basin', 'West Farms', 'Little Neck',\n",
       "       'Whitestone', 'Rosebank', 'Co-op City', 'Jamaica Hills',\n",
       "       'Rossville', 'Castle Hill', 'Westerleigh', 'Country Club',\n",
       "       'Chelsea, Staten Island', 'Gerritsen Beach', 'Breezy Point',\n",
       "       'Woodrow', 'Graniteville'], dtype=object)"
      ]
     },
     "execution_count": 59,
     "metadata": {},
     "output_type": "execute_result"
    }
   ],
   "source": [
    "dataFrame['neighbourhood_cleansed'].unique()"
   ]
  },
  {
   "cell_type": "code",
   "execution_count": 60,
   "metadata": {},
   "outputs": [
    {
     "data": {
      "text/plain": [
       "array(['Manhattan', 'Brooklyn', 'Queens', 'Staten Island', 'Bronx'],\n",
       "      dtype=object)"
      ]
     },
     "execution_count": 60,
     "metadata": {},
     "output_type": "execute_result"
    }
   ],
   "source": [
    "dataFrame['neighbourhood_group_cleansed'].unique()"
   ]
  },
  {
   "cell_type": "markdown",
   "metadata": {},
   "source": [
    "Let's filter out all data entries that pertain to Brooklyn listings:"
   ]
  },
  {
   "cell_type": "code",
   "execution_count": 61,
   "metadata": {},
   "outputs": [
    {
     "data": {
      "text/plain": [
       "(14716, 63)"
      ]
     },
     "execution_count": 61,
     "metadata": {},
     "output_type": "execute_result"
    }
   ],
   "source": [
    "bk = dataFrame[dataFrame['neighbourhood_group_cleansed'] == 'Brooklyn']\n",
    "bk.shape"
   ]
  },
  {
   "cell_type": "markdown",
   "metadata": {},
   "source": [
    "<b>Tip</b>: to better understand what happened above, in the code cell below, you are encouraged to copy *just the condition* of the filter that we used on the `data` object above: `dataFrame['neighbourhood_group_cleansed'] == 'Brooklyn'`. \n",
    "\n",
    "Run the cell and see what that condition alone evaluates to. You should see a Pandas series containing True/False values. When we use that series as a Boolean filter by writing `dataFrame[ < our Boolean series > ]`, i.e `dataFrame['neighbourhood_group_cleansed'] == 'Brooklyn']`, we are telling Pandas to keep the values in the DataFrame `dataFrame` only with those indices for which the condition evaluated to `True`. "
   ]
  },
  {
   "cell_type": "code",
   "execution_count": 62,
   "metadata": {},
   "outputs": [
    {
     "name": "stdout",
     "output_type": "stream",
     "text": [
      "0    False\n",
      "1    False\n",
      "2    False\n",
      "3     True\n",
      "4    False\n",
      "Name: neighbourhood_group_cleansed, dtype: bool\n"
     ]
    }
   ],
   "source": [
    "# import pandas as pd\n",
    "data = {\n",
    "    'neighbourhood_group_cleansed': ['Pasadena', 'Burbank', 'Glendale', 'Toluca Lake', 'West Hollywood'],\n",
    "    'price': [120, 150, 90, 110, 100]\n",
    "}\n",
    "dataFrame = pd.DataFrame(data)\n",
    "\n",
    "condition = dataFrame['neighbourhood_group_cleansed'] == 'Toluca Lake'\n",
    "\n",
    "print(condition)"
   ]
  },
  {
   "cell_type": "markdown",
   "metadata": {},
   "source": [
    "\n",
    "### e. Combining values in a column: `np.mean()`"
   ]
  },
  {
   "cell_type": "markdown",
   "metadata": {},
   "source": [
    "Now that we isolated only the relevant entries, it remains to average the value of a particular column that we care about:"
   ]
  },
  {
   "cell_type": "code",
   "execution_count": 63,
   "metadata": {},
   "outputs": [
    {
     "data": {
      "text/plain": [
       "118.7693666757271"
      ]
     },
     "execution_count": 63,
     "metadata": {},
     "output_type": "execute_result"
    }
   ],
   "source": [
    "np.mean(bk['availability_365'])"
   ]
  },
  {
   "cell_type": "markdown",
   "metadata": {},
   "source": [
    "### f. Group data by (categorical) column values: `df.groupby()`"
   ]
  },
  {
   "cell_type": "markdown",
   "metadata": {},
   "source": [
    "The next question of interest could be:<br>\n",
    "\n",
    "What are the top 5 most reviewed neighborhoods in New York? (By sheer number of reviews, regardless of their quality). <br>\n",
    "\n",
    "We will use the Pandas ```df.groupby()``` method to determine this:"
   ]
  },
  {
   "cell_type": "code",
   "execution_count": 70,
   "metadata": {
    "scrolled": true
   },
   "outputs": [
    {
     "name": "stdout",
     "output_type": "stream",
     "text": [
      "Column names in the DataFrame:\n",
      "Index(['id', 'scrape_id', 'last_scraped', 'host_id', 'host_since',\n",
      "       'host_response_time', 'host_response_rate', 'host_acceptance_rate',\n",
      "       'host_is_superhost', 'host_neighbourhood', 'host_listings_count',\n",
      "       'host_total_listings_count', 'host_verifications',\n",
      "       'host_has_profile_pic', 'host_identity_verified', 'neighbourhood',\n",
      "       'neighbourhood_cleansed', 'neighbourhood_group_cleansed', 'latitude',\n",
      "       'longitude', 'property_type', 'room_type', 'accommodates', 'bathrooms',\n",
      "       'bathrooms_text', 'bedrooms', 'beds', 'amenities', 'price',\n",
      "       'minimum_nights', 'maximum_nights', 'minimum_minimum_nights',\n",
      "       'maximum_minimum_nights', 'minimum_maximum_nights',\n",
      "       'maximum_maximum_nights', 'minimum_nights_avg_ntm',\n",
      "       'maximum_nights_avg_ntm', 'calendar_updated', 'has_availability',\n",
      "       'availability_30', 'availability_60', 'availability_90',\n",
      "       'availability_365', 'calendar_last_scraped', 'number_of_reviews',\n",
      "       'number_of_reviews_ltm', 'number_of_reviews_l30d', 'first_review',\n",
      "       'last_review', 'review_scores_rating', 'review_scores_accuracy',\n",
      "       'review_scores_cleanliness', 'review_scores_checkin',\n",
      "       'review_scores_communication', 'review_scores_location',\n",
      "       'review_scores_value', 'license', 'instant_bookable',\n",
      "       'calculated_host_listings_count',\n",
      "       'calculated_host_listings_count_entire_homes',\n",
      "       'calculated_host_listings_count_private_rooms',\n",
      "       'calculated_host_listings_count_shared_rooms', 'reviews_per_month'],\n",
      "      dtype='object')\n",
      "\n",
      "Top 5 most reviewed neighborhoods in New York (by sheer number of reviews):\n",
      "neighbourhood_group_cleansed\n",
      "Brooklyn         382972\n",
      "Manhattan        313167\n",
      "Queens           151523\n",
      "Bronx             31855\n",
      "Staten Island     12447\n",
      "Name: number_of_reviews, dtype: int64\n"
     ]
    },
    {
     "name": "stderr",
     "output_type": "stream",
     "text": [
      "/usr/local/lib/python3.6/dist-packages/IPython/core/interactiveshell.py:2728: DtypeWarning: Columns (56) have mixed types.Specify dtype option on import or set low_memory=False.\n",
      "  interactivity=interactivity, compiler=compiler, result=result)\n"
     ]
    }
   ],
   "source": [
    "filename = os.path.join(os.getcwd(), \"data\", \"airbnbData.csv\")\n",
    "dataFrame = pd.read_csv(filename)\n",
    "print(\"Column names in the DataFrame:\")\n",
    "print(dataFrame.columns)\n",
    "neighborhood_column = 'neighbourhood_group_cleansed'  # Replace with actual column name if different\n",
    "reviews_column = 'number_of_reviews'  # Replace with actual column name if different\n",
    "nbhd_reviews = dataFrame.groupby(neighborhood_column)[reviews_column].sum()\n",
    "top_5_nbhd_reviews = nbhd_reviews.sort_values(ascending=False).head(5)\n",
    "print(\"\\nTop 5 most reviewed neighborhoods in New York (by sheer number of reviews):\")\n",
    "print(top_5_nbhd_reviews)"
   ]
  },
  {
   "cell_type": "markdown",
   "metadata": {},
   "source": [
    "Perform a (descending order) sorting on this series:"
   ]
  },
  {
   "cell_type": "code",
   "execution_count": 71,
   "metadata": {},
   "outputs": [
    {
     "data": {
      "text/plain": [
       "neighbourhood_group_cleansed\n",
       "Brooklyn         382972\n",
       "Manhattan        313167\n",
       "Queens           151523\n",
       "Bronx             31855\n",
       "Staten Island     12447\n",
       "Name: number_of_reviews, dtype: int64"
      ]
     },
     "execution_count": 71,
     "metadata": {},
     "output_type": "execute_result"
    }
   ],
   "source": [
    "nbhd_reviews = nbhd_reviews.sort_values(ascending = False)\n",
    "nbhd_reviews.head(5)"
   ]
  },
  {
   "cell_type": "markdown",
   "metadata": {},
   "source": [
    "What are the least reviewed neighborhoods?"
   ]
  },
  {
   "cell_type": "code",
   "execution_count": 72,
   "metadata": {},
   "outputs": [
    {
     "data": {
      "text/plain": [
       "neighbourhood_group_cleansed\n",
       "Brooklyn         382972\n",
       "Manhattan        313167\n",
       "Queens           151523\n",
       "Bronx             31855\n",
       "Staten Island     12447\n",
       "Name: number_of_reviews, dtype: int64"
      ]
     },
     "execution_count": 72,
     "metadata": {},
     "output_type": "execute_result"
    }
   ],
   "source": [
    "nbhd_reviews.tail(5)"
   ]
  },
  {
   "cell_type": "markdown",
   "metadata": {},
   "source": [
    "This result makes it apparent that our dataset is somewhat messy!"
   ]
  },
  {
   "cell_type": "markdown",
   "metadata": {},
   "source": [
    "Notice we could have chained the transformations above into a single command, as in:"
   ]
  },
  {
   "cell_type": "code",
   "execution_count": 75,
   "metadata": {},
   "outputs": [
    {
     "data": {
      "text/plain": [
       "neighbourhood_cleansed\n",
       "Bedford-Stuyvesant    88133\n",
       "Williamsburg          55122\n",
       "Harlem                54824\n",
       "Bushwick              34776\n",
       "Hell's Kitchen        31308\n",
       "Name: number_of_reviews, dtype: int64"
      ]
     },
     "execution_count": 75,
     "metadata": {},
     "output_type": "execute_result"
    }
   ],
   "source": [
    "dataFrame.groupby('neighbourhood_cleansed')['number_of_reviews'].sum().sort_values(ascending = False).head(5)"
   ]
  },
  {
   "cell_type": "markdown",
   "metadata": {},
   "source": [
    "This way we don't store objects that we won't need."
   ]
  },
  {
   "cell_type": "markdown",
   "metadata": {},
   "source": [
    "### Bonus: Histogram plotting with Matplotlib: `plt.hist()`"
   ]
  },
  {
   "cell_type": "markdown",
   "metadata": {},
   "source": [
    "As a final touch, run the cell below to visualize the density of average values of review numbers across all neighborhoods. <b>Note:</b> The cell may take a few seconds to run."
   ]
  },
  {
   "cell_type": "code",
   "execution_count": 76,
   "metadata": {},
   "outputs": [
    {
     "data": {
      "text/plain": [
       "<AxesSubplot:>"
      ]
     },
     "execution_count": 76,
     "metadata": {},
     "output_type": "execute_result"
    },
    {
     "data": {
      "image/png": "[encoded data removed]",
      "text/plain": [
       "<Figure size 432x288 with 1 Axes>"
      ]
     },
     "metadata": {
      "needs_background": "light"
     },
     "output_type": "display_data"
    }
   ],
   "source": [
    "%matplotlib inline\n",
    "nbhd_reviews.hist()"
   ]
  },
  {
   "cell_type": "markdown",
   "metadata": {},
   "source": [
    "This plot suggests that the vast majority of neighborhoods have only very few reviews, with just a handful of outliers (those ranked at the top in our previous computed cell) having the number of reviews upward of 40000. "
   ]
  },
  {
   "cell_type": "markdown",
   "metadata": {},
   "source": [
    "## Part 2. ML Life Cycle: Business Understanding and Problem Formulation"
   ]
  },
  {
   "cell_type": "markdown",
   "metadata": {},
   "source": [
    "In this part of the lab, you will practice the first step of the machine learning life cycle: business understanding and problem formulation.\n",
    "\n",
    "Recall that the first step of the machine learning life cycle involves understanding and formulating your ML business problem, and the second step involves data understanding and preparation. In this lab however, we will first provide you with data and have you formulate a machine learning business problem based on that data.\n",
    "\n",
    "We have provided you with four datasets that you will use to formulate a machine learning problem.\n",
    "\n",
    "1. <b>HousingPrices.csv</b>: dataset that contains information about a house's characteristics (number of bedrooms, etc.) and its purchase price.\n",
    "\n",
    "2. <b>Top100Restaurants2020.csv</b>: dataset that contains information about 100 top rated restaurants in 2020.\n",
    "\n",
    "3. <b>ZooData.csv</b>: dataset that contains information about a variety of animals and their characteristics.\n",
    "\n",
    "4. <b>FlightInformation.csv</b>: dataset that contains flight information.\n",
    "\n",
    "The code cells below use the specified paths and names of the files to load the data into four different DataFrames.\n",
    "\n",
    "<b>Task \\#1</b>: After you run a code cell below to load the data, use some of the techniques you have practiced to inspect the data. Do the following: \n",
    "\n",
    "1. Inspect the first 10 rows of each DataFrame.\n",
    "2. Inspect all of the column names in each DataFrame.\n",
    "3. Obtain the shape of each DataFrame.\n",
    "\n",
    "(Note: You can add more cells below to accomplish this task by going to the `Insert` Menu and clicking on `Insert Cell Below`. By default, the new code cell will be of type `Code`.)\n",
    "\n",
    "<b>Task \\#2</b>: Once you have an idea of what is contained in a dataset, you will formulate a machine learning problem for that dataset. This will be a predictive problem. For example, the Airbnb dataset you worked with above can be used to train a machine learning model that can predict the price of a new Airbnb. \n",
    "\n",
    "Come up with at least one machine learning problem per dataset. Specify what you would like to use the data to predict in the future. Since these will be supervised learning problems, specify whether it is a classification (binary or multiclass) or a regression problem. List the label and feature columns. \n",
    "\n",
    "Note: Make sure you successfully ran the cell above that loads the `OS` module prior to running the cells below."
   ]
  },
  {
   "cell_type": "markdown",
   "metadata": {},
   "source": [
    "<b>Housing Prices Dataset</b>:"
   ]
  },
  {
   "cell_type": "code",
   "execution_count": 78,
   "metadata": {},
   "outputs": [],
   "source": [
    "filename1 = os.path.join(os.getcwd(), \"data\", \"HousingPrices.csv\") \n",
    "\n",
    "dataFrame1 = pd.read_csv(filename1)"
   ]
  },
  {
   "cell_type": "markdown",
   "metadata": {},
   "source": [
    "Inspect the data:"
   ]
  },
  {
   "cell_type": "code",
   "execution_count": 79,
   "metadata": {},
   "outputs": [
    {
     "name": "stdout",
     "output_type": "stream",
     "text": [
      "First 10 rows of Housing Prices dataset:\n",
      "      price   area  bedrooms  bathrooms  stories mainroad guestroom basement  \\\n",
      "0  13300000   7420         4          2        3      yes        no       no   \n",
      "1  12250000   8960         4          4        4      yes        no       no   \n",
      "2  12250000   9960         3          2        2      yes        no      yes   \n",
      "3  12215000   7500         4          2        2      yes        no      yes   \n",
      "4  11410000   7420         4          1        2      yes       yes      yes   \n",
      "5  10850000   7500         3          3        1      yes        no      yes   \n",
      "6  10150000   8580         4          3        4      yes        no       no   \n",
      "7  10150000  16200         5          3        2      yes        no       no   \n",
      "8   9870000   8100         4          1        2      yes       yes      yes   \n",
      "9   9800000   5750         3          2        4      yes       yes       no   \n",
      "\n",
      "  hotwaterheating airconditioning  parking prefarea furnishingstatus  \n",
      "0              no             yes        2      yes        furnished  \n",
      "1              no             yes        3       no        furnished  \n",
      "2              no              no        2      yes   semi-furnished  \n",
      "3              no             yes        3      yes        furnished  \n",
      "4              no             yes        2       no        furnished  \n",
      "5              no             yes        2      yes   semi-furnished  \n",
      "6              no             yes        2      yes   semi-furnished  \n",
      "7              no              no        0       no      unfurnished  \n",
      "8              no             yes        2      yes        furnished  \n",
      "9              no             yes        1      yes      unfurnished  \n",
      "\n",
      "Column names in the Housing Prices dataset:\n",
      "Index(['price', 'area', 'bedrooms', 'bathrooms', 'stories', 'mainroad',\n",
      "       'guestroom', 'basement', 'hotwaterheating', 'airconditioning',\n",
      "       'parking', 'prefarea', 'furnishingstatus'],\n",
      "      dtype='object')\n",
      "\n",
      "Shape of the Housing Prices dataset:\n",
      "(545, 13)\n"
     ]
    }
   ],
   "source": [
    "print(\"First 10 rows of Housing Prices dataset:\")\n",
    "print(dataFrame1.head(10))\n",
    "print(\"\\nColumn names in the Housing Prices dataset:\")\n",
    "print(dataFrame1.columns)\n",
    "print(\"\\nShape of the Housing Prices dataset:\")\n",
    "print(dataFrame1.shape)"
   ]
  },
  {
   "cell_type": "markdown",
   "metadata": {},
   "source": [
    "Formulate ML Business Problem:"
   ]
  },
  {
   "cell_type": "markdown",
   "metadata": {},
   "source": [
    "<Double click this Markdown cell to make it editable, and add record your problem formulation here.>"
   ]
  },
  {
   "cell_type": "markdown",
   "metadata": {},
   "source": [
    "<b>Restaurants Dataset</b>:"
   ]
  },
  {
   "cell_type": "code",
   "execution_count": 80,
   "metadata": {},
   "outputs": [],
   "source": [
    "filename2 = os.path.join(os.getcwd(), \"data\", \"Top100Restaurants2020.csv\") \n",
    "\n",
    "dataFrame2 = pd.read_csv(filename2)"
   ]
  },
  {
   "cell_type": "markdown",
   "metadata": {},
   "source": [
    "Inspect the data:"
   ]
  },
  {
   "cell_type": "code",
   "execution_count": 81,
   "metadata": {},
   "outputs": [
    {
     "name": "stdout",
     "output_type": "stream",
     "text": [
      "First 10 rows of Top 100 Restaurants dataset:\n",
      "   Rank                           Restaurant       Sales  Average Check  \\\n",
      "0     1             Carmine's (Times Square)  39080335.0             40   \n",
      "1     2                The Boathouse Orlando  35218364.0             43   \n",
      "2     3                     Old Ebbitt Grill  29104017.0             33   \n",
      "3     4  LAVO Italian Restaurant & Nightclub  26916180.0             90   \n",
      "4     5             Bryant Park Grill & Cafe  26900000.0             62   \n",
      "5     6             Gibsons Bar & Steakhouse  25409952.0             80   \n",
      "6     7       Top of the World at the STRAT   25233543.0            103   \n",
      "7     8                          Maple & Ash  24837595.0             99   \n",
      "8     9                            Balthazar  24547800.0             87   \n",
      "9    10                    Smith & Wollensky  24501000.0            107   \n",
      "\n",
      "         City State  Meals Served                    Category  \n",
      "0    New York  N.Y.      469803.0               Italian/Pizza  \n",
      "1    Orlando   Fla.      820819.0              Steak/ seafood  \n",
      "2  Washington  D.C.      892830.0     Fine Dining/Varied Menu  \n",
      "3    New York  N.Y.      198500.0               Italian/Pizza  \n",
      "4    New York  N.Y.      403000.0  Casual Dining/ Varied Menu  \n",
      "5     Chicago  Ill.      348567.0              Steak/ seafood  \n",
      "6   Las Vegas  Nev.      246054.0     Fine Dining/Varied Menu  \n",
      "7     Chicago  Ill.      210832.0              Steak/ seafood  \n",
      "8    New York  N.Y.      519000.0                      French  \n",
      "9    New York  N.Y.      257364.0              Steak/ seafood  \n",
      "\n",
      "Column names in the Top 100 Restaurants dataset:\n",
      "Index(['Rank', 'Restaurant', 'Sales', 'Average Check', 'City', 'State',\n",
      "       'Meals Served', 'Category'],\n",
      "      dtype='object')\n",
      "\n",
      "Shape of the Top 100 Restaurants dataset:\n",
      "(100, 8)\n"
     ]
    }
   ],
   "source": [
    "print(\"First 10 rows of Top 100 Restaurants dataset:\")\n",
    "print(dataFrame2.head(10))\n",
    "print(\"\\nColumn names in the Top 100 Restaurants dataset:\")\n",
    "print(dataFrame2.columns)\n",
    "print(\"\\nShape of the Top 100 Restaurants dataset:\")\n",
    "print(dataFrame2.shape)"
   ]
  },
  {
   "cell_type": "markdown",
   "metadata": {},
   "source": [
    "Formulate ML Business Problem:"
   ]
  },
  {
   "cell_type": "markdown",
   "metadata": {},
   "source": [
    "<Double click this Markdown cell to make it editable, and add record your problem formulation here.>"
   ]
  },
  {
   "cell_type": "markdown",
   "metadata": {},
   "source": [
    "<b>Zoo Dataset</b>:"
   ]
  },
  {
   "cell_type": "code",
   "execution_count": 83,
   "metadata": {},
   "outputs": [],
   "source": [
    "filename3 = os.path.join(os.getcwd(), \"data\", \"ZooData.csv\") \n",
    "\n",
    "dataFrame3 = pd.read_csv(filename3)"
   ]
  },
  {
   "cell_type": "markdown",
   "metadata": {},
   "source": [
    "Inspect the data:"
   ]
  },
  {
   "cell_type": "code",
   "execution_count": 84,
   "metadata": {},
   "outputs": [
    {
     "name": "stdout",
     "output_type": "stream",
     "text": [
      "First 10 rows of Zoo Data dataset:\n",
      "  animal_name   hair  feathers   eggs   milk  airborne  aquatic  predator  \\\n",
      "0    aardvark   True     False  False   True     False    False      True   \n",
      "1    antelope   True     False  False   True     False    False     False   \n",
      "2        bass  False     False   True  False     False     True      True   \n",
      "3        bear   True     False  False   True     False    False      True   \n",
      "4        boar   True     False  False   True     False    False      True   \n",
      "5     buffalo   True     False  False   True     False    False     False   \n",
      "6        calf   True     False  False   True     False    False     False   \n",
      "7        carp  False     False   True  False     False     True     False   \n",
      "8     catfish  False     False   True  False     False     True      True   \n",
      "9        cavy   True     False  False   True     False    False     False   \n",
      "\n",
      "   toothed  backbone  breathes  venomous   fins  legs   tail  domestic  \\\n",
      "0     True      True      True     False  False     4  False     False   \n",
      "1     True      True      True     False  False     4   True     False   \n",
      "2     True      True     False     False   True     0   True     False   \n",
      "3     True      True      True     False  False     4  False     False   \n",
      "4     True      True      True     False  False     4   True     False   \n",
      "5     True      True      True     False  False     4   True     False   \n",
      "6     True      True      True     False  False     4   True      True   \n",
      "7     True      True     False     False   True     0   True      True   \n",
      "8     True      True     False     False   True     0   True     False   \n",
      "9     True      True      True     False  False     4  False      True   \n",
      "\n",
      "   catsize class_type  \n",
      "0     True     Mammal  \n",
      "1     True     Mammal  \n",
      "2    False       Fish  \n",
      "3     True     Mammal  \n",
      "4     True     Mammal  \n",
      "5     True     Mammal  \n",
      "6     True     Mammal  \n",
      "7    False       Fish  \n",
      "8    False       Fish  \n",
      "9    False     Mammal  \n",
      "\n",
      "Column names in the Zoo Data dataset:\n",
      "Index(['animal_name', 'hair', 'feathers', 'eggs', 'milk', 'airborne',\n",
      "       'aquatic', 'predator', 'toothed', 'backbone', 'breathes', 'venomous',\n",
      "       'fins', 'legs', 'tail', 'domestic', 'catsize', 'class_type'],\n",
      "      dtype='object')\n",
      "\n",
      "Shape of the Zoo Data dataset:\n",
      "(101, 18)\n"
     ]
    }
   ],
   "source": [
    "print(\"First 10 rows of Zoo Data dataset:\")\n",
    "print(dataFrame3.head(10))\n",
    "print(\"\\nColumn names in the Zoo Data dataset:\")\n",
    "print(dataFrame3.columns)\n",
    "print(\"\\nShape of the Zoo Data dataset:\")\n",
    "print(dataFrame3.shape)"
   ]
  },
  {
   "cell_type": "markdown",
   "metadata": {},
   "source": [
    "Formulate ML Business Problem:"
   ]
  },
  {
   "cell_type": "markdown",
   "metadata": {},
   "source": [
    "<Double click this Markdown cell to make it editable, and add record your problem formulation here.>"
   ]
  },
  {
   "cell_type": "markdown",
   "metadata": {},
   "source": [
    "<b>Flight Dataset</b>:"
   ]
  },
  {
   "cell_type": "code",
   "execution_count": 85,
   "metadata": {},
   "outputs": [],
   "source": [
    "filename4 = os.path.join(os.getcwd(), \"data\", \"FlightInformation.csv\") \n",
    "\n",
    "dataFrame4 = pd.read_csv(filename4)"
   ]
  },
  {
   "cell_type": "markdown",
   "metadata": {},
   "source": [
    "Inspect the data:"
   ]
  },
  {
   "cell_type": "code",
   "execution_count": 86,
   "metadata": {},
   "outputs": [
    {
     "name": "stdout",
     "output_type": "stream",
     "text": [
      "First 10 rows of Flight Information dataset:\n",
      "   id Airline  Flight AirportFrom AirportTo  DayOfWeek  Time  Length  Delay\n",
      "0   1      CO     269         SFO       IAH          3    15     205      1\n",
      "1   2      US    1558         PHX       CLT          3    15     222      1\n",
      "2   3      AA    2400         LAX       DFW          3    20     165      1\n",
      "3   4      AA    2466         SFO       DFW          3    20     195      1\n",
      "4   5      AS     108         ANC       SEA          3    30     202      0\n",
      "5   6      CO    1094         LAX       IAH          3    30     181      1\n",
      "6   7      DL    1768         LAX       MSP          3    30     220      0\n",
      "7   8      DL    2722         PHX       DTW          3    30     228      0\n",
      "8   9      DL    2606         SFO       MSP          3    35     216      1\n",
      "9  10      AA    2538         LAS       ORD          3    40     200      1\n",
      "\n",
      "Column names in the Flight Information dataset:\n",
      "Index(['id', 'Airline', 'Flight', 'AirportFrom', 'AirportTo', 'DayOfWeek',\n",
      "       'Time', 'Length', 'Delay'],\n",
      "      dtype='object')\n",
      "\n",
      "Shape of the Flight Information dataset:\n",
      "(65499, 9)\n"
     ]
    }
   ],
   "source": [
    "print(\"First 10 rows of Flight Information dataset:\")\n",
    "print(dataFrame4.head(10))\n",
    "print(\"\\nColumn names in the Flight Information dataset:\")\n",
    "print(dataFrame4.columns)\n",
    "print(\"\\nShape of the Flight Information dataset:\")\n",
    "print(dataFrame4.shape)"
   ]
  },
  {
   "cell_type": "markdown",
   "metadata": {},
   "source": [
    "Formulate ML Business Problem:"
   ]
  },
  {
   "cell_type": "markdown",
   "metadata": {},
   "source": [
    "<Double click this Markdown cell to make it editable, and add record your problem formulation here.>"
   ]
  },
  {
   "cell_type": "markdown",
   "metadata": {},
   "source": [
    "<b>Next Steps</b>: The second step of the machine learning life cycle is data understanding and data preparation. You practiced some aspects of data understanding when using NumPy and Pandas to inspect the Airbnb dataset. You will learn more about this second step of the machine learning life cycle in the next unit."
   ]
  }
 ],
 "metadata": {
  "kernelspec": {
   "display_name": "Python 3",
   "language": "python",
   "name": "python3"
  },
  "language_info": {
   "codemirror_mode": {
    "name": "ipython",
    "version": 3
   },
   "file_extension": ".py",
   "mimetype": "text/x-python",
   "name": "python",
   "nbconvert_exporter": "python",
   "pygments_lexer": "ipython3",
   "version": "3.6.9"
  },
  "toc": {
   "base_numbering": 1,
   "nav_menu": {
    "height": "12px",
    "width": "162px"
   },
   "number_sections": false,
   "sideBar": true,
   "skip_h1_title": false,
   "title_cell": "Table of Contents",
   "title_sidebar": "Contents",
   "toc_cell": false,
   "toc_position": {},
   "toc_section_display": true,
   "toc_window_display": false
  },
  "varInspector": {
   "cols": {
    "lenName": 16,
    "lenType": 16,
    "lenVar": 40
   },
   "kernels_config": {
    "python": {
     "delete_cmd_postfix": "",
     "delete_cmd_prefix": "del ",
     "library": "var_list.py",
     "varRefreshCmd": "print(var_dic_list())"
    },
    "r": {
     "delete_cmd_postfix": ") ",
     "delete_cmd_prefix": "rm(",
     "library": "var_list.r",
     "varRefreshCmd": "cat(var_dic_list()) "
    }
   },
   "types_to_exclude": [
    "module",
    "function",
    "builtin_function_or_method",
    "instance",
    "_Feature"
   ],
   "window_display": false
  }
 },
 "nbformat": 4,
 "nbformat_minor": 2
}
